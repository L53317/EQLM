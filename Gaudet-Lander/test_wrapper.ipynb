{
 "cells": [
  {
   "cell_type": "code",
   "execution_count": 1,
   "metadata": {},
   "outputs": [],
   "source": [
    "%load_ext autoreload\n",
    "%autoreload 2"
   ]
  },
  {
   "cell_type": "code",
   "execution_count": 2,
   "metadata": {},
   "outputs": [],
   "source": [
    "import sys\n",
    "sys.path.append('RL_lib/Agents/PPO')\n",
    "sys.path.append('RL_lib/Utils')\n",
    "sys.path.append('../')"
   ]
  },
  {
   "cell_type": "code",
   "execution_count": 4,
   "metadata": {},
   "outputs": [],
   "source": [
    "import numpy as np\n",
    "import pdb\n",
    "import matplotlib.pyplot as plt\n",
    "\n",
    "import env_lib\n",
    "from policy_ppo import Policy\n",
    "from value_function import Value_function\n",
    "from utils import Mapminmax,Logger,Scaler\n",
    "import utils\n",
    "from env_gaudet_lander import LanderEnvironment, int_to_bin, bin_to_int"
   ]
  },
  {
   "cell_type": "code",
   "execution_count": 5,
   "metadata": {},
   "outputs": [],
   "source": [
    "def ppo_policy(s):\n",
    "    s_norm = input_normalizer.apply(s)\n",
    "    a = policy.sample(s_norm)\n",
    "    return bin_to_int(list(a[1][0]))\n",
    "\n",
    "def random_policy(s):\n",
    "    return np.random.randint(16)\n",
    "\n",
    "def policy_demo(H, env, N_ep, show=False):\n",
    "    R_ep = []\n",
    "    for ep_no in range(N_ep):\n",
    "        s = env.reset()\n",
    "        done = False\n",
    "        Rt = []\n",
    "        while not done:\n",
    "            a = H(s)\n",
    "            s, r, done, _ = env.step(a)\n",
    "            if show:\n",
    "                env.render()\n",
    "            Rt.append(np.sum(r))\n",
    "        R_ep.append(Rt)\n",
    "    return R_ep"
   ]
  },
  {
   "cell_type": "markdown",
   "metadata": {},
   "source": [
    "## Initial policy testing"
   ]
  },
  {
   "cell_type": "code",
   "execution_count": null,
   "metadata": {},
   "outputs": [],
   "source": [
    "env = LanderEnvironment()"
   ]
  },
  {
   "cell_type": "code",
   "execution_count": null,
   "metadata": {},
   "outputs": [],
   "source": [
    "obs_dim = 12\n",
    "act_dim = 4\n",
    "\n",
    "policy = Policy(obs_dim,act_dim,kl_targ=0.001,epochs=20, beta=0.1, shuffle=True, servo_kl=True, discretize=True)\n",
    "\n",
    "fname = \"optimize_4km\"\n",
    "input_normalizer = utils.load_run(policy,fname)\n",
    "print(input_normalizer)"
   ]
  },
  {
   "cell_type": "code",
   "execution_count": 30,
   "metadata": {},
   "outputs": [],
   "source": [
    "policy.test_mode=True\n",
    "R = policy_demo(ppo_policy,env,1)"
   ]
  },
  {
   "cell_type": "code",
   "execution_count": 31,
   "metadata": {},
   "outputs": [
    {
     "data": {
      "text/plain": [
       "[<matplotlib.lines.Line2D at 0x7f04cfddc048>]"
      ]
     },
     "execution_count": 31,
     "metadata": {},
     "output_type": "execute_result"
    },
    {
     "data": {
      "image/png": "[encoded data removed]",
      "text/plain": [
       "<Figure size 432x288 with 1 Axes>"
      ]
     },
     "metadata": {
      "needs_background": "light"
     },
     "output_type": "display_data"
    }
   ],
   "source": [
    "plt.plot(np.cumsum(R[0]))"
   ]
  },
  {
   "cell_type": "markdown",
   "metadata": {},
   "source": [
    "## New reward function"
   ]
  },
  {
   "cell_type": "code",
   "execution_count": 13,
   "metadata": {},
   "outputs": [
    {
     "name": "stdout",
     "output_type": "stream",
     "text": [
      "Inertia Tensor:  [[2000.    0.    0.]\n",
      " [   0. 2000.    0.]\n",
      " [   0.    0. 3200.]]\n",
      "Lander Model: \n",
      " - apf_v0:  70\n",
      " - apf_vf1:  [ 0.  0. -2.]\n",
      " - apf_vf2:  [ 0.  0. -1.]\n",
      " - apf_atarg:  15.0\n",
      " - apf_tau1:  20\n",
      " - apf_tau2:  100.0\n",
      "Attitude Constraint\n",
      "Reward_terminal\n",
      "lander env att 2 fixed\n",
      "WARNING:tensorflow:Entity <bound method Dense.call of <tensorflow.python.layers.core.Dense object at 0x7ff73c268630>> could not be transformed and will be executed as-is. Please report this to the AutgoGraph team. When filing the bug, set the verbosity to 10 (on Linux, `export AUTOGRAPH_VERBOSITY=10`) and attach the full output. Cause: converting <bound method Dense.call of <tensorflow.python.layers.core.Dense object at 0x7ff73c268630>>: AssertionError: Bad argument number for Name: 3, expecting 4\n",
      "WARNING: Entity <bound method Dense.call of <tensorflow.python.layers.core.Dense object at 0x7ff73c268630>> could not be transformed and will be executed as-is. Please report this to the AutgoGraph team. When filing the bug, set the verbosity to 10 (on Linux, `export AUTOGRAPH_VERBOSITY=10`) and attach the full output. Cause: converting <bound method Dense.call of <tensorflow.python.layers.core.Dense object at 0x7ff73c268630>>: AssertionError: Bad argument number for Name: 3, expecting 4\n",
      "WARNING:tensorflow:Entity <bound method Dense.call of <tensorflow.python.layers.core.Dense object at 0x7ff73c268630>> could not be transformed and will be executed as-is. Please report this to the AutgoGraph team. When filing the bug, set the verbosity to 10 (on Linux, `export AUTOGRAPH_VERBOSITY=10`) and attach the full output. Cause: converting <bound method Dense.call of <tensorflow.python.layers.core.Dense object at 0x7ff73c268630>>: AssertionError: Bad argument number for Name: 3, expecting 4\n",
      "WARNING: Entity <bound method Dense.call of <tensorflow.python.layers.core.Dense object at 0x7ff73c268630>> could not be transformed and will be executed as-is. Please report this to the AutgoGraph team. When filing the bug, set the verbosity to 10 (on Linux, `export AUTOGRAPH_VERBOSITY=10`) and attach the full output. Cause: converting <bound method Dense.call of <tensorflow.python.layers.core.Dense object at 0x7ff73c268630>>: AssertionError: Bad argument number for Name: 3, expecting 4\n",
      "WARNING:tensorflow:Entity <bound method Dense.call of <tensorflow.python.layers.core.Dense object at 0x7ff73c268630>> could not be transformed and will be executed as-is. Please report this to the AutgoGraph team. When filing the bug, set the verbosity to 10 (on Linux, `export AUTOGRAPH_VERBOSITY=10`) and attach the full output. Cause: converting <bound method Dense.call of <tensorflow.python.layers.core.Dense object at 0x7ff73c268630>>: AssertionError: Bad argument number for Name: 3, expecting 4\n",
      "WARNING: Entity <bound method Dense.call of <tensorflow.python.layers.core.Dense object at 0x7ff73c268630>> could not be transformed and will be executed as-is. Please report this to the AutgoGraph team. When filing the bug, set the verbosity to 10 (on Linux, `export AUTOGRAPH_VERBOSITY=10`) and attach the full output. Cause: converting <bound method Dense.call of <tensorflow.python.layers.core.Dense object at 0x7ff73c268630>>: AssertionError: Bad argument number for Name: 3, expecting 4\n",
      "WARNING:tensorflow:Entity <bound method Dense.call of <tensorflow.python.layers.core.Dense object at 0x7ff73c268630>> could not be transformed and will be executed as-is. Please report this to the AutgoGraph team. When filing the bug, set the verbosity to 10 (on Linux, `export AUTOGRAPH_VERBOSITY=10`) and attach the full output. Cause: converting <bound method Dense.call of <tensorflow.python.layers.core.Dense object at 0x7ff73c268630>>: AssertionError: Bad argument number for Name: 3, expecting 4\n",
      "WARNING: Entity <bound method Dense.call of <tensorflow.python.layers.core.Dense object at 0x7ff73c268630>> could not be transformed and will be executed as-is. Please report this to the AutgoGraph team. When filing the bug, set the verbosity to 10 (on Linux, `export AUTOGRAPH_VERBOSITY=10`) and attach the full output. Cause: converting <bound method Dense.call of <tensorflow.python.layers.core.Dense object at 0x7ff73c268630>>: AssertionError: Bad argument number for Name: 3, expecting 4\n",
      "Actions\n",
      "[[0.]\n",
      " [1.]]\n",
      "dict_keys(['h1/kernel:0', 'h1/bias:0', 'h2/kernel:0', 'h2/bias:0', 'h3/kernel:0', 'h3/bias:0', 'means/kernel:0', 'means/bias:0', 'logvars:0'])\n"
     ]
    }
   ],
   "source": [
    "env = LanderEnvironment()\n",
    "obs_dim = 12\n",
    "act_dim = 4\n",
    "\n",
    "policy = Policy(obs_dim,act_dim,kl_targ=0.001,epochs=20, beta=0.1, shuffle=True, servo_kl=True, discretize=True)\n",
    "\n",
    "fname = \"opt_discrete_4km\"\n",
    "input_normalizer = utils.load_run(policy,fname)"
   ]
  },
  {
   "cell_type": "code",
   "execution_count": 23,
   "metadata": {},
   "outputs": [
    {
     "name": "stdout",
     "output_type": "stream",
     "text": [
      "6dof dynamics model\n",
      "Quaternion_attitude\n",
      "Thruster Config Shape:  (4, 6) 4\n",
      "queue fixed\n",
      "Flat Constraint\n",
      "99.98\n"
     ]
    }
   ],
   "source": [
    "policy.test_mode=True\n",
    "env.r_type = 'sparse'\n",
    "s = env.reset()\n",
    "done = False\n",
    "while not done:\n",
    "    a = ppo_policy(s)\n",
    "    s, r, done, info = env.step(a)\n",
    "print(r)"
   ]
  },
  {
   "cell_type": "code",
   "execution_count": 21,
   "metadata": {},
   "outputs": [
    {
     "name": "stdout",
     "output_type": "stream",
     "text": [
      "Final Stats (mean,std,min,max)\n",
      "position |     0.4    -0.8    -0.0 |     0.6     1.7     0.0 |    -0.2    -2.6    -0.0 |     1.3     1.4    -0.0\n",
      "velocity |  -0.218   0.044  -1.449 |   0.113   0.116   0.235 |  -0.359  -0.090  -1.738 |  -0.082   0.193  -1.161\n",
      "fuel     |264.16 |  5.48 |258.05 |271.35\n",
      "attitude_321 |   0.042   0.025   0.007 |   0.049   0.046   0.070 |  -0.022  -0.040  -0.065 |   0.097   0.062   0.102\n",
      "w        |   0.307  -0.001   0.000 |   0.287   0.001   0.000 |  -0.001  -0.002  -0.000 |   0.691   0.001   0.000\n",
      "glideslope |  12.797 |   6.456 |   4.176 |  19.713\n"
     ]
    }
   ],
   "source": [
    "env.main_env.lander.show_final_stats()"
   ]
  },
  {
   "cell_type": "code",
   "execution_count": 18,
   "metadata": {},
   "outputs": [
    {
     "name": "stdout",
     "output_type": "stream",
     "text": [
      "Final Stats (mean,std,min,max)\n",
      "position |     1.3     1.4    -0.0 |     0.0     0.0     0.0 |     1.3     1.4    -0.0 |     1.3     1.4    -0.0\n",
      "velocity |  -0.359   0.193  -1.448 |   0.000   0.000   0.000 |  -0.359   0.193  -1.448 |  -0.359   0.193  -1.448\n",
      "fuel     |263.09 |  0.00 |263.09 |263.09\n",
      "attitude_321 |   0.097   0.052  -0.065 |   0.000   0.000   0.000 |   0.097   0.052  -0.065 |   0.097   0.052  -0.065\n",
      "w        |   0.691   0.001   0.000 |   0.000   0.000   0.000 |   0.691   0.001   0.000 |   0.691   0.001   0.000\n",
      "glideslope |   4.176 |   0.000 |   4.176 |   4.176\n"
     ]
    }
   ],
   "source": [
    "env.main_env.lander.show_final_stats()"
   ]
  },
  {
   "cell_type": "code",
   "execution_count": null,
   "metadata": {},
   "outputs": [],
   "source": []
  }
 ],
 "metadata": {
  "kernelspec": {
   "display_name": "Python 3",
   "language": "python",
   "name": "python3"
  },
  "language_info": {
   "codemirror_mode": {
    "name": "ipython",
    "version": 3
   },
   "file_extension": ".py",
   "mimetype": "text/x-python",
   "name": "python",
   "nbconvert_exporter": "python",
   "pygments_lexer": "ipython3",
   "version": "3.6.9"
  }
 },
 "nbformat": 4,
 "nbformat_minor": 4
}
