{
 "cells": [
  {
   "cell_type": "markdown",
   "metadata": {},
   "source": [
    "# Run QNet on Lander"
   ]
  },
  {
   "cell_type": "code",
   "execution_count": 1,
   "metadata": {},
   "outputs": [],
   "source": [
    "%load_ext autoreload\n",
    "%autoreload 2"
   ]
  },
  {
   "cell_type": "code",
   "execution_count": 3,
   "metadata": {},
   "outputs": [],
   "source": [
    "import sys\n",
    "import numpy as np\n",
    "from tqdm.notebook import trange\n",
    "import seaborn as sns\n",
    "import matplotlib.pyplot as plt\n",
    "import pickle\n",
    "\n",
    "sys.path.append('RL_lib/Agents/PPO')\n",
    "sys.path.append('RL_lib/Utils')\n",
    "sys.path.append('../')\n",
    "\n",
    "import QLearn\n",
    "import env_lib\n",
    "from policy_ppo import Policy\n",
    "from value_function import Value_function\n",
    "from utils import Mapminmax,Logger,Scaler\n",
    "import utils\n",
    "from env_gaudet_lander import LanderEnvironment, int_to_bin, bin_to_int"
   ]
  },
  {
   "cell_type": "code",
   "execution_count": 4,
   "metadata": {},
   "outputs": [
    {
     "name": "stdout",
     "output_type": "stream",
     "text": [
      "Inertia Tensor:  [[2000.    0.    0.]\n",
      " [   0. 2000.    0.]\n",
      " [   0.    0. 3200.]]\n",
      "Lander Model: \n",
      " - apf_v0:  70\n",
      " - apf_vf1:  [ 0.  0. -2.]\n",
      " - apf_vf2:  [ 0.  0. -1.]\n",
      " - apf_atarg:  15.0\n",
      " - apf_tau1:  20\n",
      " - apf_tau2:  100.0\n",
      "Attitude Constraint\n",
      "Reward_terminal\n",
      "lander env att 2 fixed\n",
      "PPO Policy 1\n",
      "WARNING:tensorflow:From RL_lib/Agents/PPO/policy_ppo.py:92: The name tf.placeholder is deprecated. Please use tf.compat.v1.placeholder instead.\n",
      "\n",
      "WARNING:tensorflow:From RL_lib/Agents/PPO/policy_ppo.py:123: dense (from tensorflow.python.layers.core) is deprecated and will be removed in a future version.\n",
      "Instructions for updating:\n",
      "Use keras.layers.dense instead.\n",
      "WARNING:tensorflow:Entity <bound method Dense.call of <tensorflow.python.layers.core.Dense object at 0x7fcd3380c908>> could not be transformed and will be executed as-is. Please report this to the AutgoGraph team. When filing the bug, set the verbosity to 10 (on Linux, `export AUTOGRAPH_VERBOSITY=10`) and attach the full output. Cause: converting <bound method Dense.call of <tensorflow.python.layers.core.Dense object at 0x7fcd3380c908>>: AssertionError: Bad argument number for Name: 3, expecting 4\n",
      "WARNING: Entity <bound method Dense.call of <tensorflow.python.layers.core.Dense object at 0x7fcd3380c908>> could not be transformed and will be executed as-is. Please report this to the AutgoGraph team. When filing the bug, set the verbosity to 10 (on Linux, `export AUTOGRAPH_VERBOSITY=10`) and attach the full output. Cause: converting <bound method Dense.call of <tensorflow.python.layers.core.Dense object at 0x7fcd3380c908>>: AssertionError: Bad argument number for Name: 3, expecting 4\n",
      "WARNING:tensorflow:Entity <bound method Dense.call of <tensorflow.python.layers.core.Dense object at 0x7fcd3380cb70>> could not be transformed and will be executed as-is. Please report this to the AutgoGraph team. When filing the bug, set the verbosity to 10 (on Linux, `export AUTOGRAPH_VERBOSITY=10`) and attach the full output. Cause: converting <bound method Dense.call of <tensorflow.python.layers.core.Dense object at 0x7fcd3380cb70>>: AssertionError: Bad argument number for Name: 3, expecting 4\n",
      "WARNING: Entity <bound method Dense.call of <tensorflow.python.layers.core.Dense object at 0x7fcd3380cb70>> could not be transformed and will be executed as-is. Please report this to the AutgoGraph team. When filing the bug, set the verbosity to 10 (on Linux, `export AUTOGRAPH_VERBOSITY=10`) and attach the full output. Cause: converting <bound method Dense.call of <tensorflow.python.layers.core.Dense object at 0x7fcd3380cb70>>: AssertionError: Bad argument number for Name: 3, expecting 4\n",
      "WARNING:tensorflow:Entity <bound method Dense.call of <tensorflow.python.layers.core.Dense object at 0x7fcd842872e8>> could not be transformed and will be executed as-is. Please report this to the AutgoGraph team. When filing the bug, set the verbosity to 10 (on Linux, `export AUTOGRAPH_VERBOSITY=10`) and attach the full output. Cause: converting <bound method Dense.call of <tensorflow.python.layers.core.Dense object at 0x7fcd842872e8>>: AssertionError: Bad argument number for Name: 3, expecting 4\n",
      "WARNING: Entity <bound method Dense.call of <tensorflow.python.layers.core.Dense object at 0x7fcd842872e8>> could not be transformed and will be executed as-is. Please report this to the AutgoGraph team. When filing the bug, set the verbosity to 10 (on Linux, `export AUTOGRAPH_VERBOSITY=10`) and attach the full output. Cause: converting <bound method Dense.call of <tensorflow.python.layers.core.Dense object at 0x7fcd842872e8>>: AssertionError: Bad argument number for Name: 3, expecting 4\n",
      "WARNING:tensorflow:Entity <bound method Dense.call of <tensorflow.python.layers.core.Dense object at 0x7fcd33899ef0>> could not be transformed and will be executed as-is. Please report this to the AutgoGraph team. When filing the bug, set the verbosity to 10 (on Linux, `export AUTOGRAPH_VERBOSITY=10`) and attach the full output. Cause: converting <bound method Dense.call of <tensorflow.python.layers.core.Dense object at 0x7fcd33899ef0>>: AssertionError: Bad argument number for Name: 3, expecting 4\n",
      "WARNING: Entity <bound method Dense.call of <tensorflow.python.layers.core.Dense object at 0x7fcd33899ef0>> could not be transformed and will be executed as-is. Please report this to the AutgoGraph team. When filing the bug, set the verbosity to 10 (on Linux, `export AUTOGRAPH_VERBOSITY=10`) and attach the full output. Cause: converting <bound method Dense.call of <tensorflow.python.layers.core.Dense object at 0x7fcd33899ef0>>: AssertionError: Bad argument number for Name: 3, expecting 4\n",
      "WARNING:tensorflow:From RL_lib/Agents/PPO/policy_ppo.py:136: The name tf.get_variable is deprecated. Please use tf.compat.v1.get_variable instead.\n",
      "\n",
      "Policy Params -- h1: 120, h2: 69, h3: 40, lr: 0.000108, logvar_speed: 8\n",
      "WARNING:tensorflow:From RL_lib/Agents/PPO/policy_ppo.py:174: The name tf.random_normal is deprecated. Please use tf.random.normal instead.\n",
      "\n",
      "WARNING:tensorflow:From RL_lib/Agents/PPO/policy_ppo.py:189: The name tf.train.AdamOptimizer is deprecated. Please use tf.compat.v1.train.AdamOptimizer instead.\n",
      "\n",
      "WARNING:tensorflow:From /home/callum/.local/lib/python3.6/site-packages/tensorflow/python/ops/math_grad.py:1250: add_dispatch_support.<locals>.wrapper (from tensorflow.python.ops.array_ops) is deprecated and will be removed in a future version.\n",
      "Instructions for updating:\n",
      "Use tf.where in 2.0, which has the same broadcast rule as np.where\n",
      "WARNING:tensorflow:From RL_lib/Agents/PPO/policy_ppo.py:87: The name tf.global_variables_initializer is deprecated. Please use tf.compat.v1.global_variables_initializer instead.\n",
      "\n",
      "WARNING:tensorflow:From RL_lib/Agents/PPO/policy_ppo.py:208: The name tf.Session is deprecated. Please use tf.compat.v1.Session instead.\n",
      "\n",
      "Actions\n",
      "[[0.]\n",
      " [1.]]\n",
      "10\n",
      "Actor Test Mode:  False\n",
      "clip param:  0.1\n",
      "dict_keys(['h1/kernel:0', 'h1/bias:0', 'h2/kernel:0', 'h2/bias:0', 'h3/kernel:0', 'h3/bias:0', 'means/kernel:0', 'means/bias:0', 'logvars:0'])\n"
     ]
    },
    {
     "data": {
      "image/png": "[encoded data removed]",
      "text/plain": [
       "<Figure size 432x288 with 1 Axes>"
      ]
     },
     "metadata": {
      "needs_background": "light"
     },
     "output_type": "display_data"
    },
    {
     "data": {
      "text/plain": [
       "<Figure size 576x288 with 0 Axes>"
      ]
     },
     "metadata": {},
     "output_type": "display_data"
    },
    {
     "data": {
      "text/plain": [
       "<Figure size 576x288 with 0 Axes>"
      ]
     },
     "metadata": {},
     "output_type": "display_data"
    },
    {
     "data": {
      "text/plain": [
       "<Figure size 576x288 with 0 Axes>"
      ]
     },
     "metadata": {},
     "output_type": "display_data"
    },
    {
     "data": {
      "text/plain": [
       "<Figure size 576x288 with 0 Axes>"
      ]
     },
     "metadata": {},
     "output_type": "display_data"
    },
    {
     "data": {
      "text/plain": [
       "<Figure size 576x288 with 0 Axes>"
      ]
     },
     "metadata": {},
     "output_type": "display_data"
    },
    {
     "data": {
      "image/png": "[encoded data removed]",
      "text/plain": [
       "<Figure size 576x288 with 1 Axes>"
      ]
     },
     "metadata": {
      "needs_background": "light"
     },
     "output_type": "display_data"
    }
   ],
   "source": [
    "env = LanderEnvironment()\n",
    "obs_dim = 12\n",
    "act_dim = 4\n",
    "\n",
    "policy = Policy(obs_dim,act_dim,kl_targ=0.001,epochs=20, beta=0.1, shuffle=True, servo_kl=True, discretize=True)\n",
    "\n",
    "fname = \"opt_discrete_4km\"\n",
    "input_normalizer = utils.load_run(policy,fname)"
   ]
  },
  {
   "cell_type": "markdown",
   "metadata": {},
   "source": [
    "## Baseline Performances"
   ]
  },
  {
   "cell_type": "code",
   "execution_count": 5,
   "metadata": {},
   "outputs": [],
   "source": [
    "def ppo_policy(s):\n",
    "    s_norm = input_normalizer.apply(s)\n",
    "    a = policy.sample(s_norm.reshape(1,-1))\n",
    "    return bin_to_int(list(a[1][0]))\n",
    "\n",
    "def random_policy(s):\n",
    "    return np.random.randint(16)"
   ]
  },
  {
   "cell_type": "code",
   "execution_count": 7,
   "metadata": {},
   "outputs": [
    {
     "name": "stdout",
     "output_type": "stream",
     "text": [
      "6dof dynamics model\n",
      "Quaternion_attitude\n",
      "Thruster Config Shape:  (4, 6) 4\n",
      "queue fixed\n",
      "Flat Constraint\n"
     ]
    },
    {
     "data": {
      "application/vnd.jupyter.widget-view+json": {
       "model_id": "43556700bd274f3ab9afe136f25543d8",
       "version_major": 2,
       "version_minor": 0
      },
      "text/plain": [
       "HBox(children=(FloatProgress(value=0.0), HTML(value='')))"
      ]
     },
     "metadata": {},
     "output_type": "display_data"
    },
    {
     "name": "stdout",
     "output_type": "stream",
     "text": [
      "*** ATT VIO TYPE CNT:  [0. 0. 1.]\n",
      "\n"
     ]
    }
   ],
   "source": [
    "R_rand = QLearn.heuristic_demo(random_policy,env,100)"
   ]
  },
  {
   "cell_type": "code",
   "execution_count": 10,
   "metadata": {},
   "outputs": [
    {
     "data": {
      "application/vnd.jupyter.widget-view+json": {
       "model_id": "7394ac0abbff473fa555029acc0570d7",
       "version_major": 2,
       "version_minor": 0
      },
      "text/plain": [
       "HBox(children=(FloatProgress(value=0.0, max=10.0), HTML(value='')))"
      ]
     },
     "metadata": {},
     "output_type": "display_data"
    },
    {
     "name": "stdout",
     "output_type": "stream",
     "text": [
      "\n"
     ]
    }
   ],
   "source": [
    "policy.test_mode=True\n",
    "R_ppo = QLearn.heuristic_demo(ppo_policy,env,10)"
   ]
  },
  {
   "cell_type": "code",
   "execution_count": 6,
   "metadata": {},
   "outputs": [
    {
     "data": {
      "application/vnd.jupyter.widget-view+json": {
       "model_id": "5f424e79ca87474e86df96879bc3aeae",
       "version_major": 2,
       "version_minor": 0
      },
      "text/plain": [
       "HBox(children=(FloatProgress(value=0.0, max=20.0), HTML(value='')))"
      ]
     },
     "metadata": {},
     "output_type": "display_data"
    },
    {
     "name": "stdout",
     "output_type": "stream",
     "text": [
      "\n"
     ]
    }
   ],
   "source": [
    "policy.test_mode=True\n",
    "mem_ppo = QLearn.heuristic_memory_demo(ppo_policy,env,20,fname='demo_disc.pkl')"
   ]
  },
  {
   "cell_type": "code",
   "execution_count": 11,
   "metadata": {},
   "outputs": [
    {
     "data": {
      "text/plain": [
       "<matplotlib.axes._subplots.AxesSubplot at 0x7f03ae83ddd8>"
      ]
     },
     "execution_count": 11,
     "metadata": {},
     "output_type": "execute_result"
    },
    {
     "data": {
      "image/png": "[encoded data removed]",
      "text/plain": [
       "<Figure size 432x288 with 1 Axes>"
      ]
     },
     "metadata": {
      "needs_background": "light"
     },
     "output_type": "display_data"
    }
   ],
   "source": [
    "sns.distplot(R_rand)"
   ]
  },
  {
   "cell_type": "code",
   "execution_count": 16,
   "metadata": {},
   "outputs": [
    {
     "data": {
      "text/plain": [
       "<matplotlib.axes._subplots.AxesSubplot at 0x7f03add0be48>"
      ]
     },
     "execution_count": 16,
     "metadata": {},
     "output_type": "execute_result"
    },
    {
     "data": {
      "image/png": "[encoded data removed]",
      "text/plain": [
       "<Figure size 432x288 with 1 Axes>"
      ]
     },
     "metadata": {
      "needs_background": "light"
     },
     "output_type": "display_data"
    }
   ],
   "source": [
    "sns.distplot(R_ppo)"
   ]
  },
  {
   "cell_type": "markdown",
   "metadata": {},
   "source": [
    "## Running Q Agent with Guidance"
   ]
  },
  {
   "cell_type": "code",
   "execution_count": null,
   "metadata": {},
   "outputs": [],
   "source": [
    "N_ep = 2000\n",
    "policy.test_mode=True\n",
    "agent = QLearn.QAgent(env, net_type='QNet', f_heur=ppo_policy, n_heur=100,\n",
    "                    update_steps=10, N_hid=100, eps0=0.9, gamma=0.99, n_eps=1500, memory_size=100000, minibatch_size=25)\n",
    "R_ep, agent, env = do_run(agent, env, N_ep)"
   ]
  },
  {
   "cell_type": "code",
   "execution_count": 9,
   "metadata": {},
   "outputs": [],
   "source": [
    "agent.nn.sess.close()"
   ]
  },
  {
   "cell_type": "code",
   "execution_count": 26,
   "metadata": {},
   "outputs": [
    {
     "data": {
      "text/plain": [
       "[<matplotlib.lines.Line2D at 0x7ff9877675f8>]"
      ]
     },
     "execution_count": 26,
     "metadata": {},
     "output_type": "execute_result"
    },
    {
     "data": {
      "image/png": "[encoded data removed]",
      "text/plain": [
       "<Figure size 432x288 with 1 Axes>"
      ]
     },
     "metadata": {
      "needs_background": "light"
     },
     "output_type": "display_data"
    }
   ],
   "source": [
    "plt.plot(R_ep)"
   ]
  },
  {
   "cell_type": "markdown",
   "metadata": {},
   "source": [
    "Using demo memory"
   ]
  },
  {
   "cell_type": "code",
   "execution_count": 19,
   "metadata": {},
   "outputs": [],
   "source": [
    "del agent"
   ]
  },
  {
   "cell_type": "code",
   "execution_count": null,
   "metadata": {},
   "outputs": [
    {
     "name": "stdout",
     "output_type": "stream",
     "text": [
      "Inertia Tensor:  [[2000.    0.    0.]\n",
      " [   0. 2000.    0.]\n",
      " [   0.    0. 3200.]]\n",
      "Lander Model: \n",
      " - apf_v0:  70\n",
      " - apf_vf1:  [ 0.  0. -2.]\n",
      " - apf_vf2:  [ 0.  0. -1.]\n",
      " - apf_atarg:  15.0\n",
      " - apf_tau1:  20\n",
      " - apf_tau2:  100.0\n",
      "Attitude Constraint\n",
      "Reward_terminal\n",
      "lander env att 2 fixed\n"
     ]
    },
    {
     "data": {
      "application/vnd.jupyter.widget-view+json": {
       "model_id": "fce67bc29339419b9eddc6a6b8f672b0",
       "version_major": 2,
       "version_minor": 0
      },
      "text/plain": [
       "HBox(children=(FloatProgress(value=0.0, description='bar_desc', max=50000.0, style=ProgressStyle(description_w…"
      ]
     },
     "metadata": {},
     "output_type": "display_data"
    },
    {
     "name": "stdout",
     "output_type": "stream",
     "text": [
      "*** ATT VIO TYPE CNT:  [0. 0. 1.]\n",
      "*** ATT VIO TYPE CNT:  [ 0. 28. 73.]\n",
      "*** ATT VIO TYPE CNT:  [  0.  63. 139.]\n",
      "*** ATT VIO TYPE CNT:  [  0.  94. 210.]\n",
      "*** ATT VIO TYPE CNT:  [  0. 132. 273.]\n",
      "*** ATT VIO TYPE CNT:  [  0. 146. 359.]\n",
      "*** ATT VIO TYPE CNT:  [  0. 190. 415.]\n",
      "*** ATT VIO TYPE CNT:  [  0. 212. 493.]\n",
      "*** ATT VIO TYPE CNT:  [  0. 235. 572.]\n",
      "*** ATT VIO TYPE CNT:  [  0. 258. 649.]\n",
      "*** ATT VIO TYPE CNT:  [  0. 317. 692.]\n",
      "*** ATT VIO TYPE CNT:  [  0. 350. 759.]\n",
      "*** ATT VIO TYPE CNT:  [  0. 376. 834.]\n",
      "*** ATT VIO TYPE CNT:  [  0. 408. 903.]\n",
      "*** ATT VIO TYPE CNT:  [  0. 431. 981.]\n",
      "*** ATT VIO TYPE CNT:  [   0.  470. 1043.]\n",
      "*** ATT VIO TYPE CNT:  [   0.  493. 1120.]\n",
      "*** ATT VIO TYPE CNT:  [   0.  518. 1196.]\n",
      "*** ATT VIO TYPE CNT:  [   0.  554. 1261.]\n",
      "*** ATT VIO TYPE CNT:  [   0.  581. 1336.]\n",
      "*** ATT VIO TYPE CNT:  [   0.  618. 1400.]\n",
      "*** ATT VIO TYPE CNT:  [   0.  661. 1457.]\n",
      "*** ATT VIO TYPE CNT:  [   0.  698. 1521.]\n",
      "*** ATT VIO TYPE CNT:  [   0.  723. 1596.]\n",
      "*** ATT VIO TYPE CNT:  [   0.  735. 1684.]\n",
      "*** ATT VIO TYPE CNT:  [   0.  752. 1768.]\n",
      "*** ATT VIO TYPE CNT:  [   0.  782. 1840.]\n",
      "*** ATT VIO TYPE CNT:  [   0.  804. 1919.]\n",
      "*** ATT VIO TYPE CNT:  [   0.  835. 1988.]\n",
      "*** ATT VIO TYPE CNT:  [   0.  867. 2056.]\n",
      "*** ATT VIO TYPE CNT:  [   0.  908. 2115.]\n",
      "*** ATT VIO TYPE CNT:  [   0.  940. 2183.]\n",
      "*** ATT VIO TYPE CNT:  [   0.  973. 2250.]\n",
      "*** ATT VIO TYPE CNT:  [   0. 1011. 2313.]\n",
      "*** ATT VIO TYPE CNT:  [   0. 1033. 2391.]\n",
      "*** ATT VIO TYPE CNT:  [   0. 1065. 2460.]\n",
      "*** ATT VIO TYPE CNT:  [   0. 1093. 2532.]\n",
      "*** ATT VIO TYPE CNT:  [   0. 1115. 2610.]\n",
      "*** ATT VIO TYPE CNT:  [   0. 1148. 2677.]\n",
      "*** ATT VIO TYPE CNT:  [   0. 1175. 2750.]\n",
      "*** ATT VIO TYPE CNT:  [   0. 1186. 2839.]\n",
      "*** ATT VIO TYPE CNT:  [   0. 1196. 2929.]\n",
      "*** ATT VIO TYPE CNT:  [   0. 1218. 3007.]\n",
      "*** ATT VIO TYPE CNT:  [   0. 1246. 3079.]\n",
      "*** ATT VIO TYPE CNT:  [   0. 1267. 3158.]\n",
      "*** ATT VIO TYPE CNT:  [   0. 1280. 3245.]\n",
      "*** ATT VIO TYPE CNT:  [   0. 1294. 3331.]\n",
      "*** ATT VIO TYPE CNT:  [   0. 1304. 3421.]\n",
      "*** ATT VIO TYPE CNT:  [   0. 1314. 3511.]\n",
      "*** ATT VIO TYPE CNT:  [   0. 1325. 3600.]\n",
      "*** ATT VIO TYPE CNT:  [   0. 1332. 3693.]\n",
      "*** ATT VIO TYPE CNT:  [   0. 1351. 3774.]\n",
      "*** ATT VIO TYPE CNT:  [   0. 1369. 3856.]\n",
      "*** ATT VIO TYPE CNT:  [   0. 1381. 3944.]\n",
      "*** ATT VIO TYPE CNT:  [   0. 1401. 4025.]\n",
      "*** ATT VIO TYPE CNT:  [   0. 1417. 4109.]\n",
      "*** ATT VIO TYPE CNT:  [   0. 1434. 4193.]\n",
      "*** ATT VIO TYPE CNT:  [   0. 1444. 4283.]\n",
      "*** ATT VIO TYPE CNT:  [   0. 1467. 4360.]\n",
      "*** ATT VIO TYPE CNT:  [   0. 1518. 4410.]\n",
      "*** ATT VIO TYPE CNT:  [   0. 1545. 4484.]\n",
      "*** ATT VIO TYPE CNT:  [   0. 1560. 4569.]\n",
      "*** ATT VIO TYPE CNT:  [   0. 1576. 4653.]\n",
      "*** ATT VIO TYPE CNT:  [   0. 1603. 4726.]\n",
      "*** ATT VIO TYPE CNT:  [   0. 1621. 4808.]\n",
      "*** ATT VIO TYPE CNT:  [   0. 1645. 4884.]\n",
      "*** ATT VIO TYPE CNT:  [   0. 1653. 4976.]\n",
      "*** ATT VIO TYPE CNT:  [   0. 1674. 5055.]\n",
      "*** ATT VIO TYPE CNT:  [   0. 1698. 5131.]\n",
      "*** ATT VIO TYPE CNT:  [   0. 1718. 5211.]\n",
      "*** ATT VIO TYPE CNT:  [   0. 1739. 5291.]\n",
      "*** ATT VIO TYPE CNT:  [   0. 1784. 5348.]\n",
      "*** ATT VIO TYPE CNT:  [   0. 1809. 5423.]\n",
      "*** ATT VIO TYPE CNT:  [   0. 1839. 5493.]\n",
      "*** ATT VIO TYPE CNT:  [   0. 1872. 5560.]\n",
      "*** ATT VIO TYPE CNT:  [   0. 1901. 5633.]\n",
      "*** ATT VIO TYPE CNT:  [   0. 1931. 5704.]\n",
      "*** ATT VIO TYPE CNT:  [   0. 1950. 5785.]\n",
      "*** ATT VIO TYPE CNT:  [   0. 1972. 5864.]\n",
      "*** ATT VIO TYPE CNT:  [   0. 1993. 5943.]\n",
      "*** ATT VIO TYPE CNT:  [   0. 2024. 6013.]\n",
      "*** ATT VIO TYPE CNT:  [   0. 2044. 6095.]\n",
      "*** ATT VIO TYPE CNT:  [   0. 2062. 6177.]\n",
      "*** ATT VIO TYPE CNT:  [   0. 2087. 6252.]\n",
      "*** ATT VIO TYPE CNT:  [   0. 2105. 6334.]\n",
      "*** ATT VIO TYPE CNT:  [   0. 2136. 6404.]\n",
      "*** ATT VIO TYPE CNT:  [   0. 2169. 6471.]\n"
     ]
    }
   ],
   "source": [
    "N_ep = 50000\n",
    "dmem=pickle.load(open('demo_disc.pkl','rb'))\n",
    "env = LanderEnvironment()\n",
    "agent = QLearn.QAgent(env,net_type='MLPQNet',hidden_layers=[160, 80],alpha=1e-4,gamma=0.99,eps0=0.25,n_eps=40000,minibatch_size=50,memory_size=500000,demo_memory=dmem,n_demo=50)\n",
    "fname = 'lander_demo_test_20_3_mlp1'\n",
    "R, steps, agent, env = QLearn.do_run(agent, env, N_ep, save_name = fname, show_progress=True)"
   ]
  },
  {
   "cell_type": "code",
   "execution_count": 18,
   "metadata": {},
   "outputs": [
    {
     "data": {
      "text/plain": [
       "[<matplotlib.lines.Line2D at 0x7fccfe4d0080>]"
      ]
     },
     "execution_count": 18,
     "metadata": {},
     "output_type": "execute_result"
    },
    {
     "data": {
      "image/png": "[encoded data removed]",
      "text/plain": [
       "<Figure size 432x288 with 1 Axes>"
      ]
     },
     "metadata": {
      "needs_background": "light"
     },
     "output_type": "display_data"
    }
   ],
   "source": [
    "x,R_s=R.smooth()\n",
    "plt.plot(x,R_s)"
   ]
  },
  {
   "cell_type": "code",
   "execution_count": null,
   "metadata": {},
   "outputs": [],
   "source": []
  }
 ],
 "metadata": {
  "kernelspec": {
   "display_name": "Python 3",
   "language": "python",
   "name": "python3"
  },
  "language_info": {
   "codemirror_mode": {
    "name": "ipython",
    "version": 3
   },
   "file_extension": ".py",
   "mimetype": "text/x-python",
   "name": "python",
   "nbconvert_exporter": "python",
   "pygments_lexer": "ipython3",
   "version": "3.6.9"
  }
 },
 "nbformat": 4,
 "nbformat_minor": 4
}
