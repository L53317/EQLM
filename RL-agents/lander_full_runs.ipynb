{
 "cells": [
  {
   "cell_type": "markdown",
   "metadata": {},
   "source": [
    "# Full Sim Training"
   ]
  },
  {
   "cell_type": "code",
   "execution_count": 1,
   "metadata": {},
   "outputs": [],
   "source": [
    "%load_ext autoreload\n",
    "%autoreload 2"
   ]
  },
  {
   "cell_type": "code",
   "execution_count": 3,
   "metadata": {},
   "outputs": [],
   "source": [
    "import numpy as np\n",
    "import matplotlib.pyplot as plt\n",
    "import pickle\n",
    "from tqdm import tqdm_notebook as tqdm\n",
    "from tqdm import trange, tnrange\n",
    "\n",
    "from deep_qnet_agent import DQNAgentDemo\n",
    "from environment import Environment, LanderEnvironment\n",
    "from full_lander_sim import *\n",
    "from gym import wrappers"
   ]
  },
  {
   "cell_type": "code",
   "execution_count": 4,
   "metadata": {},
   "outputs": [],
   "source": [
    "def save_agent(agent, env, fname):\n",
    "    env.reset()\n",
    "    \n",
    "    agentcon = agent_config()\n",
    "    netcon = network_config()\n",
    "    for key in agentcon.keys():\n",
    "        agentcon[key] = getattr(agent, key)\n",
    "    for key in netcon.keys():\n",
    "        netcon[key] = getattr(agent, key)\n",
    "        \n",
    "    netparams = {}\n",
    "    netparams['w_in'] = agent.sess.run(agent.w_in)\n",
    "    netparams['b_in'] = agent.sess.run(agent.b_in)\n",
    "    netparams['W'] = agent.sess.run(agent.W)\n",
    "    agent_data = {'agentcon':agentcon, 'netcon':netcon, 'netparams':netparams,\n",
    "                 'SA':(agent.state_size, agent.action_size), 'env':env}\n",
    "    pickle.dump(agent_data,open(fname,'wb'))\n",
    "    \n",
    "def save_deep_agent(agent, env, fname):\n",
    "    env.reset()\n",
    "    \n",
    "    agentcon = agent_config()\n",
    "    netcon = network_config()\n",
    "    for key in agentcon.keys():\n",
    "        agentcon[key] = getattr(agent, key)\n",
    "    for key in netcon.keys():\n",
    "        netcon[key] = getattr(agent, key)\n",
    "        \n",
    "    netparams = {}\n",
    "    for w in agent.weights.keys():\n",
    "        netparams[w] = agent.sess.run(agent.weights[w])\n",
    "    for b in agent.biases.keys():\n",
    "        netparams[b] = agent.sess.run(agent.biases[b])\n",
    "\n",
    "    agent_data = {'agentcon':agentcon, 'netcon':netcon, 'netparams':netparams,\n",
    "                 'SA':(agent.state_size, agent.action_size), 'env':env}\n",
    "    pickle.dump(agent_data,open(fname,'wb'))\n",
    "    \n",
    "def load_agent(fname):\n",
    "    agent_data = pickle.load(open(fname,'rb'))\n",
    "    env = agent_data['env']\n",
    "    agent = QNetAgent(agent_data['agentcon'],agent_data['netcon'],env)\n",
    "\n",
    "    netparams = agent_data['netparams']\n",
    "    with agent.sess.as_default():\n",
    "        agent.w_in.load(netparams['w_in'])\n",
    "        agent.b_in.load(netparams['b_in'])\n",
    "        agent.W.load(netparams['W'])\n",
    "    print(agent.sess.run(agent.W))\n",
    "    \n",
    "    return agent, env\n",
    "\n",
    "def load_deep_agent(fname):\n",
    "    agent_data = pickle.load(open(fname,'rb'))\n",
    "    env = agent_data['env']\n",
    "    agent = DQNAgentDemo(agent_data['agentcon'],agent_data['netcon'],env,[])\n",
    "\n",
    "    netparams = agent_data['netparams']\n",
    "    with agent.sess.as_default():\n",
    "        for w in agent.weights.keys():\n",
    "            agent.weights[w].load(netparams[w])\n",
    "        for b in agent.biases.keys():\n",
    "            agent.biases[b].load(netparams[b])\n",
    "    return agent, env\n",
    "\n",
    "def reset_agent(agent, netcon, agentcon):\n",
    "    \"\"\"\n",
    "    This function resets an agent's hyperparameters while maintaining its weights\n",
    "    \"\"\"\n",
    "    # Reset hyperparams\n",
    "    for key in agentcon.keys():\n",
    "        setattr(agent, key, agentcon[key])\n",
    "    for key in netcon.keys():\n",
    "        setattr(agent, key, netcon[key])\n",
    "    agent.eps = agent.eps0\n",
    "    \n",
    "    # Assign target network\n",
    "    agent.sess.run(agent.wt_assign)\n",
    "    agent.sess.run(agent.bt_assign)\n",
    "    agent.sess.run(agent.Wt_assign)\n",
    "    \n",
    "    # Memory (maintains state transition memory)\n",
    "    agent.prev_s=[]\n",
    "    agent.prev_a=[]\n",
    "    agent.step_count=0\n",
    "    agent.ep_no=0\n",
    "    \n",
    "    return agent\n",
    "\n",
    "def do_run(agent, env, N_ep):\n",
    "    R_ep = []\n",
    "    t = tnrange(N_ep, desc='bar_desc', leave=True)\n",
    "#     for ep_no in tqdm(range(N_ep)):\n",
    "    for ep_no in t:\n",
    "        observation = env.reset()\n",
    "        done = False\n",
    "        r = 0\n",
    "        n_step = 0\n",
    "        while not done:\n",
    "            action = agent.action_select(env,observation)\n",
    "            observation, reward, done, info = env.step(action)\n",
    "            agent.update_net(observation,reward,done)\n",
    "            r += reward\n",
    "            n_step +=1\n",
    "        R_ep.append(r)\n",
    "        t.set_description('Last reward: {}'.format(r))\n",
    "        t.refresh()\n",
    "    return R_ep, agent, env\n",
    "\n",
    "def agent_demo(agent, env, N_ep):\n",
    "    R_ep = []\n",
    "    for ep_no in tqdm(range(N_ep)):\n",
    "        observation = env.reset()\n",
    "        done = False\n",
    "        r = 0\n",
    "        while not done:\n",
    "            action = agent.action_select(env,observation)\n",
    "            observation, reward, done, _ = env.step(action)\n",
    "            env.render()\n",
    "            r += reward\n",
    "        R_ep.append(r)\n",
    "    return R_ep\n",
    "\n",
    "def data_smooth(data,n_avg):\n",
    "\t# A function to average data over n_avg timesteps\n",
    "\tind_vec = np.arange(n_avg,len(data)+1,n_avg)\n",
    "\tdata_avg = [0]\n",
    "\tfor ind in ind_vec:\n",
    "\t\tdata_avg.append(np.mean(data[ind-n_avg:ind]))\n",
    "\treturn data_avg"
   ]
  },
  {
   "cell_type": "markdown",
   "metadata": {},
   "source": [
    "## Environment"
   ]
  },
  {
   "cell_type": "code",
   "execution_count": null,
   "metadata": {},
   "outputs": [],
   "source": [
    "demo_heuristic_lander(MarsLander())"
   ]
  },
  {
   "cell_type": "code",
   "execution_count": 6,
   "metadata": {},
   "outputs": [
    {
     "name": "stdout",
     "output_type": "stream",
     "text": [
      "Episode 1\n",
      "observations: +0.00 -0.00 +0.00 +0.00 -0.00 +0.00 +1.00 +1.00\n",
      "step 1872 total_reward -48.42\n",
      "Episode 1\n",
      "observations: +0.00 -0.00 +0.00 +0.00 -0.00 +0.00 +1.00 +1.00\n",
      "step 1876 total_reward -41.31\n",
      "Episode 1\n",
      "observations: -0.00 -0.00 +0.00 +0.00 +0.00 +0.00 +1.00 +1.00\n",
      "step 1872 total_reward -46.27\n",
      "Episode 1\n",
      "observations: -0.00 -0.00 +0.00 +0.00 +0.00 +0.00 +1.00 +1.00\n",
      "step 1879 total_reward -45.66\n",
      "Episode 1\n",
      "observations: +0.01 -0.00 +0.00 +0.00 -0.00 +0.00 +1.00 +1.00\n",
      "step 1873 total_reward -48.65\n"
     ]
    }
   ],
   "source": [
    "exp_heuristic = exp_heuristic_lander(MarsLander())\n",
    "fname = 'lander_full_heuristic_13_11'\n",
    "np.save(open(fname,'wb'),exp_heuristic)"
   ]
  },
  {
   "cell_type": "code",
   "execution_count": 7,
   "metadata": {},
   "outputs": [
    {
     "data": {
      "text/plain": [
       "(9377, 5)"
      ]
     },
     "execution_count": 7,
     "metadata": {},
     "output_type": "execute_result"
    }
   ],
   "source": [
    "np.shape(exp_heuristic)"
   ]
  },
  {
   "cell_type": "markdown",
   "metadata": {},
   "source": [
    "## Training"
   ]
  },
  {
   "cell_type": "code",
   "execution_count": 5,
   "metadata": {},
   "outputs": [],
   "source": [
    "def network_config():\n",
    "    netcon = {}\n",
    "    netcon['alpha'] = 0.001\n",
    "    netcon['clip_norm'] = 1.0\n",
    "    netcon['update_steps'] = 50\n",
    "    netcon['N_hid_1'] = 120\n",
    "    netcon['N_hid_2'] = 80\n",
    "    netcon['activation'] = 'tanh'\n",
    "    netcon['init_mag'] = 0.01\n",
    "    return netcon\n",
    "\n",
    "def agent_config():\n",
    "    agentcon = {}\n",
    "    agentcon['gamma'] = 0.9\n",
    "    agentcon['eps0'] = 0.5\n",
    "    agentcon['epsf'] = 0.0\n",
    "    agentcon['n_eps'] = 800\n",
    "    agentcon['minib'] = 20\n",
    "    agentcon['minib_demo'] = 50\n",
    "    agentcon['max_mem'] = 500000\n",
    "    return agentcon"
   ]
  },
  {
   "cell_type": "code",
   "execution_count": null,
   "metadata": {},
   "outputs": [],
   "source": [
    "fname = 'lander_full_heuristic_13_11'\n",
    "demo_exp = np.load(open(fname,'rb'),allow_pickle=True).tolist()\n",
    "\n",
    "print(agent_config())\n",
    "print(network_config())\n",
    "\n",
    "mean_end = -500\n",
    "agent_no = 0\n",
    "while mean_end<100:\n",
    "    agent_no+=1\n",
    "    print('Agent ' + str(agent_no))\n",
    "    \n",
    "    N_ep = 600\n",
    "    env = LanderEnvironment()W\n",
    "    agent = QNetAgentDemo(agent_config(),network_config(),env,demo_exp)\n",
    "    \n",
    "    R_ep, agent, env = do_run(agent, env, N_ep)\n",
    "    mean_end = np.mean(R_ep[-100:])\n",
    "    print('R end: ' + repr(mean_end))\n",
    "    \n",
    "    save_agent(agent, env, 'agent'+str(agent_no))\n",
    "    pickle.dump(R_ep, open('reward'+str(agent_no),'wb'))"
   ]
  },
  {
   "cell_type": "markdown",
   "metadata": {},
   "source": [
    "## Deep Agents"
   ]
  },
  {
   "cell_type": "code",
   "execution_count": 6,
   "metadata": {},
   "outputs": [
    {
     "name": "stderr",
     "output_type": "stream",
     "text": [
      "/home/callum/.local/lib/python3.6/site-packages/gym/logger.py:30: UserWarning: \u001b[33mWARN: Box bound precision lowered by casting to float32\u001b[0m\n",
      "  warnings.warn(colorize('%s: %s'%('WARN', msg % args), 'yellow'))\n"
     ]
    },
    {
     "name": "stdout",
     "output_type": "stream",
     "text": [
      "WARNING:tensorflow:From /home/callum/.local/lib/python3.6/site-packages/tensorflow/python/ops/clip_ops.py:157: add_dispatch_support.<locals>.wrapper (from tensorflow.python.ops.array_ops) is deprecated and will be removed in a future version.\n",
      "Instructions for updating:\n",
      "Use tf.where in 2.0, which has the same broadcast rule as np.where\n"
     ]
    }
   ],
   "source": [
    "fname = 'lander_full_heuristic_13_11'\n",
    "demo_exp = np.load(open(fname,'rb'),allow_pickle=True).tolist()\n",
    "\n",
    "env = LanderEnvironment()\n",
    "agent = DQNAgentDemo(agent_config(),network_config(),env,demo_exp)"
   ]
  },
  {
   "cell_type": "code",
   "execution_count": 11,
   "metadata": {},
   "outputs": [],
   "source": [
    "def t_qnet(agent,env,n_step):\n",
    "    pr = cProfile.Profile()\n",
    "    s = env.reset()\n",
    "    pr.enable()\n",
    "    for _ in range(n_step):\n",
    "        a = agent.action_select(env,s)\n",
    "        s, r, done, _ = env.step(a)\n",
    "        agent.update_net(s,r,done)\n",
    "    pr.disable()\n",
    "    sortby = 'cumulative'\n",
    "    ps = pstats.Stats(pr).sort_stats(sortby)\n",
    "    return ps"
   ]
  },
  {
   "cell_type": "code",
   "execution_count": 12,
   "metadata": {},
   "outputs": [
    {
     "name": "stdout",
     "output_type": "stream",
     "text": [
      "         91767 function calls (90208 primitive calls) in 0.306 seconds\n",
      "\n",
      "   Ordered by: cumulative time\n",
      "\n",
      "   ncalls  tottime  percall  cumtime  percall filename:lineno(function)\n",
      "       41    0.034    0.001    0.270    0.007 /home/callum/smart-ml/RL-agents/deep_qnet_agent.py:234(update_net)\n",
      "      138    0.000    0.000    0.209    0.002 /home/callum/.local/lib/python3.6/site-packages/tensorflow/python/client/session.py:840(run)\n",
      "      138    0.003    0.000    0.209    0.002 /home/callum/.local/lib/python3.6/site-packages/tensorflow/python/client/session.py:1084(_run)\n",
      "      138    0.001    0.000    0.178    0.001 /home/callum/.local/lib/python3.6/site-packages/tensorflow/python/client/session.py:1310(_do_run)\n",
      "      138    0.000    0.000    0.177    0.001 /home/callum/.local/lib/python3.6/site-packages/tensorflow/python/client/session.py:1354(_do_call)\n",
      "      138    0.000    0.000    0.177    0.001 /home/callum/.local/lib/python3.6/site-packages/tensorflow/python/client/session.py:1337(_run_fn)\n",
      "      138    0.000    0.000    0.173    0.001 /home/callum/.local/lib/python3.6/site-packages/tensorflow/python/client/session.py:1425(_call_tf_sessionrun)\n",
      "      138    0.173    0.001    0.173    0.001 {built-in method _pywrap_tensorflow_internal.TF_SessionRun_wrapper}\n",
      "       82    0.000    0.000    0.080    0.001 /home/callum/.local/lib/python3.6/site-packages/tensorflow/python/framework/ops.py:710(eval)\n",
      "       82    0.000    0.000    0.079    0.001 /home/callum/.local/lib/python3.6/site-packages/tensorflow/python/framework/ops.py:5542(_eval_using_default_session)\n",
      "3103/2939    0.006    0.000    0.038    0.000 {built-in method numpy.core._multiarray_umath.implement_array_function}\n",
      "       41    0.001    0.000    0.027    0.001 /home/callum/smart-ml/RL-agents/deep_qnet_agent.py:223(action_select)\n",
      "     2678    0.002    0.000    0.026    0.000 <__array_function__ internals>:2(amax)\n",
      "     2678    0.004    0.000    0.022    0.000 /home/callum/.local/lib/python3.6/site-packages/numpy/core/fromnumeric.py:2551(amax)\n",
      "     2678    0.005    0.000    0.018    0.000 /home/callum/.local/lib/python3.6/site-packages/numpy/core/fromnumeric.py:73(_wrapreduction)\n",
      "      164    0.000    0.000    0.015    0.000 <__array_function__ internals>:2(stack)\n",
      "      164    0.001    0.000    0.013    0.000 /home/callum/.local/lib/python3.6/site-packages/numpy/core/shape_base.py:357(stack)\n",
      "      138    0.002    0.000    0.013    0.000 /home/callum/.local/lib/python3.6/site-packages/tensorflow/python/client/session.py:461(__init__)\n",
      "     2678    0.011    0.000    0.011    0.000 {method 'reduce' of 'numpy.ufunc' objects}\n",
      "       41    0.000    0.000    0.009    0.000 /home/callum/smart-ml/RL-agents/environment.py:65(step)\n",
      "       41    0.005    0.000    0.008    0.000 /home/callum/smart-ml/RL-agents/full_lander_sim.py:247(step)\n",
      "       62    0.003    0.000    0.008    0.000 /usr/lib/python3.6/random.py:285(sample)\n",
      "6594/6538    0.002    0.000    0.006    0.000 {built-in method builtins.isinstance}\n",
      "      164    0.002    0.000    0.005    0.000 /home/callum/.local/lib/python3.6/site-packages/numpy/core/shape_base.py:420(<listcomp>)\n",
      "  910/358    0.000    0.000    0.005    0.000 {built-in method builtins.next}\n",
      "      276    0.001    0.000    0.005    0.000 /home/callum/.local/lib/python3.6/site-packages/tensorflow/python/framework/ops.py:5644(get_controller)\n",
      "      138    0.001    0.000    0.005    0.000 /home/callum/.local/lib/python3.6/site-packages/tensorflow/python/client/session.py:245(for_fetch)\n",
      "     1215    0.002    0.000    0.004    0.000 /usr/lib/python3.6/abc.py:180(__instancecheck__)\n",
      "      179    0.001    0.000    0.004    0.000 /home/callum/.local/lib/python3.6/site-packages/tensorflow/python/framework/tensor_shape.py:1043(is_compatible_with)\n",
      "     2476    0.003    0.000    0.004    0.000 /usr/lib/python3.6/random.py:223(_randbelow)\n",
      "      246    0.000    0.000    0.004    0.000 <__array_function__ internals>:2(concatenate)\n",
      "      138    0.000    0.000    0.003    0.000 /home/callum/.local/lib/python3.6/site-packages/tensorflow/python/client/session.py:1372(_extend_graph)\n",
      "     5360    0.002    0.000    0.003    0.000 /home/callum/.local/lib/python3.6/site-packages/numpy/core/_asarray.py:88(asanyarray)\n",
      "  455/179    0.000    0.000    0.003    0.000 /usr/lib/python3.6/contextlib.py:79(__enter__)\n",
      "      179    0.000    0.000    0.003    0.000 /home/callum/.local/lib/python3.6/site-packages/tensorflow/python/client/session.py:1087(_feed_fn)\n",
      "     5580    0.002    0.000    0.002    0.000 {built-in method numpy.array}\n",
      "      179    0.000    0.000    0.002    0.000 /home/callum/.local/lib/python3.6/site-packages/tensorflow/python/framework/tensor_shape.py:1199(as_shape)\n",
      "  455/179    0.001    0.000    0.002    0.000 /usr/lib/python3.6/contextlib.py:85(__exit__)\n",
      "      317    0.001    0.000    0.002    0.000 /home/callum/.local/lib/python3.6/site-packages/tensorflow/python/framework/ops.py:3763(as_graph_element)\n",
      "      179    0.000    0.000    0.002    0.000 /home/callum/.local/lib/python3.6/site-packages/tensorflow/python/framework/tensor_shape.py:741(__init__)\n",
      "       30    0.000    0.000    0.002    0.000 /home/callum/smart-ml/RL-agents/full_lander_sim.py:226(_create_particle)\n",
      "     2678    0.002    0.000    0.002    0.000 /home/callum/.local/lib/python3.6/site-packages/numpy/core/fromnumeric.py:74(<dictcomp>)\n",
      "      138    0.001    0.000    0.002    0.000 /home/callum/.local/lib/python3.6/site-packages/tensorflow/python/util/nest.py:307(flatten_dict_items)\n",
      "      164    0.002    0.000    0.002    0.000 /home/callum/.local/lib/python3.6/site-packages/numpy/core/shape_base.py:432(<listcomp>)\n",
      "      138    0.000    0.000    0.002    0.000 /home/callum/.local/lib/python3.6/site-packages/tensorflow/python/client/session.py:283(__init__)\n",
      "      317    0.001    0.000    0.002    0.000 /home/callum/.local/lib/python3.6/site-packages/tensorflow/python/framework/ops.py:3798(_as_graph_element_locked)\n",
      "      179    0.000    0.000    0.001    0.000 /home/callum/.local/lib/python3.6/site-packages/tensorflow/python/framework/tensor_shape.py:774(<listcomp>)\n",
      "      716    0.000    0.000    0.001    0.000 /home/callum/.local/lib/python3.6/site-packages/tensorflow/python/framework/tensor_shape.py:700(as_dimension)\n",
      "      164    0.001    0.000    0.001    0.000 /home/callum/.local/lib/python3.6/site-packages/numpy/core/shape_base.py:424(<setcomp>)\n",
      "     2465    0.001    0.000    0.001    0.000 /usr/lib/python3.6/_weakrefset.py:70(__contains__)\n",
      "      138    0.000    0.000    0.001    0.000 /home/callum/.local/lib/python3.6/site-packages/tensorflow/python/client/session.py:1399(_update_with_movers)\n",
      "      455    0.000    0.000    0.001    0.000 /usr/lib/python3.6/contextlib.py:157(helper)\n",
      "      138    0.001    0.000    0.001    0.000 /home/callum/.local/lib/python3.6/site-packages/tensorflow/python/client/session.py:518(build_results)\n",
      "      138    0.000    0.000    0.001    0.000 /home/callum/.local/lib/python3.6/site-packages/tensorflow/python/util/lock_util.py:126(__exit__)\n",
      "      138    0.000    0.000    0.001    0.000 /home/callum/.local/lib/python3.6/site-packages/tensorflow/python/util/lock_util.py:123(__enter__)\n",
      "      138    0.000    0.000    0.001    0.000 /home/callum/.local/lib/python3.6/site-packages/tensorflow/python/util/lock_util.py:96(release)\n",
      "      138    0.000    0.000    0.001    0.000 /home/callum/.local/lib/python3.6/site-packages/tensorflow/python/util/lock_util.py:86(acquire)\n",
      "       41    0.001    0.000    0.001    0.000 /home/callum/smart-ml/RL-agents/deep_qnet_agent.py:261(<listcomp>)\n",
      "     53/3    0.000    0.000    0.001    0.000 /usr/lib/python3.6/abc.py:196(__subclasscheck__)\n",
      "      455    0.001    0.000    0.001    0.000 /usr/lib/python3.6/contextlib.py:59(__init__)\n",
      "       26    0.000    0.000    0.001    0.000 /home/callum/smart-ml/RL-agents/environment.py:56(rand_action)\n",
      "     4103    0.001    0.000    0.001    0.000 {method 'getrandbits' of '_random.Random' objects}\n",
      "      358    0.001    0.000    0.001    0.000 /home/callum/.local/lib/python3.6/site-packages/tensorflow/python/framework/tensor_shape.py:176(__init__)\n",
      "  263/139    0.000    0.000    0.001    0.000 {built-in method builtins.issubclass}\n",
      "       30    0.000    0.000    0.001    0.000 /home/callum/.local/lib/python3.6/site-packages/Box2D/Box2D.py:6041(CreateDynamicBody)\n",
      "       26    0.000    0.000    0.001    0.000 /home/callum/.local/lib/python3.6/site-packages/gym/spaces/discrete.py:18(sample)\n",
      "       26    0.000    0.000    0.001    0.000 {method 'randint' of 'numpy.random.mtrand.RandomState' objects}\n",
      "      179    0.000    0.000    0.001    0.000 /home/callum/.local/lib/python3.6/site-packages/tensorflow/python/pywrap_tensorflow_internal.py:2447(IsSequence)\n",
      "      179    0.000    0.000    0.001    0.000 /home/callum/.local/lib/python3.6/site-packages/tensorflow/python/ops/session_ops.py:271(_get_handle_mover)\n",
      "       90    0.000    0.000    0.001    0.000 /home/callum/.local/lib/python3.6/site-packages/Box2D/Box2D.py:143(_init_kwargs)\n",
      "     1283    0.001    0.000    0.001    0.000 /home/callum/.local/lib/python3.6/site-packages/tensorflow/python/framework/ops.py:639(__hash__)\n",
      "     1316    0.001    0.000    0.001    0.000 {built-in method builtins.getattr}\n",
      "       30    0.000    0.000    0.001    0.000 /home/callum/.local/lib/python3.6/site-packages/Box2D/Box2D.py:6071(CreateBody)\n",
      "      138    0.000    0.000    0.001    0.000 /home/callum/.local/lib/python3.6/site-packages/tensorflow/python/framework/ops.py:4012(as_default)\n",
      "      179    0.000    0.000    0.001    0.000 /home/callum/.local/lib/python3.6/site-packages/tensorflow/python/ops/session_ops.py:251(_get_handle_feeder)\n",
      "       41    0.000    0.000    0.001    0.000 /home/callum/smart-ml/RL-agents/full_lander_sim.py:256(<listcomp>)\n",
      "      179    0.000    0.000    0.001    0.000 {built-in method _pywrap_tensorflow_internal.IsSequence}\n",
      "      138    0.000    0.000    0.001    0.000 /usr/lib/python3.6/threading.py:357(notify_all)\n",
      "      358    0.000    0.000    0.001    0.000 /home/callum/.local/lib/python3.6/site-packages/tensorflow/python/framework/ops.py:5454(get_controller)\n",
      "    80/23    0.000    0.000    0.001    0.000 /usr/lib/python3.6/typing.py:1145(__subclasscheck__)\n",
      "      358    0.000    0.000    0.001    0.000 /home/callum/.local/lib/python3.6/site-packages/tensorflow/python/framework/tensor_shape.py:236(is_compatible_with)\n",
      "     2678    0.001    0.000    0.001    0.000 /home/callum/.local/lib/python3.6/site-packages/numpy/core/fromnumeric.py:2546(_amax_dispatcher)\n",
      "      179    0.000    0.000    0.001    0.000 /home/callum/.local/lib/python3.6/site-packages/numpy/core/_asarray.py:16(asarray)\n",
      "       82    0.001    0.000    0.001    0.000 {method 'uniform' of 'numpy.random.mtrand.RandomState' objects}\n",
      "      138    0.000    0.000    0.001    0.000 /home/callum/.local/lib/python3.6/site-packages/tensorflow/python/util/lock_util.py:106(_another_group_active)\n",
      "      276    0.001    0.000    0.001    0.000 /home/callum/.local/lib/python3.6/site-packages/tensorflow/python/eager/context.py:516(_mode)\n",
      "      138    0.000    0.000    0.001    0.000 /home/callum/.local/lib/python3.6/site-packages/tensorflow/python/eager/context.py:191(push)\n",
      "     3320    0.001    0.000    0.001    0.000 {method 'items' of 'dict' objects}\n",
      "      317    0.000    0.000    0.000    0.000 /home/callum/.local/lib/python3.6/site-packages/tensorflow/python/framework/ops.py:167(_as_graph_element)\n",
      "       30    0.000    0.000    0.000    0.000 /home/callum/.local/lib/python3.6/site-packages/Box2D/Box2D.py:4823(__init__)\n",
      "      138    0.000    0.000    0.000    0.000 /home/callum/.local/lib/python3.6/site-packages/tensorflow/python/eager/context.py:1458(graph_mode)\n",
      "      138    0.000    0.000    0.000    0.000 /home/callum/.local/lib/python3.6/site-packages/tensorflow/python/framework/ops.py:6015(get_default_graph)\n",
      "       41    0.000    0.000    0.000    0.000 /home/callum/smart-ml/RL-agents/deep_qnet_agent.py:263(<listcomp>)\n",
      "      138    0.000    0.000    0.000    0.000 /home/callum/.local/lib/python3.6/site-packages/tensorflow/python/framework/ops.py:5274(_session_run_lock)\n",
      "     2112    0.000    0.000    0.000    0.000 {method 'add' of 'set' objects}\n",
      "      194    0.000    0.000    0.000    0.000 /home/callum/.local/lib/python3.6/site-packages/tensorflow/python/framework/ops.py:2512(type)\n",
      "      138    0.000    0.000    0.000    0.000 /usr/lib/python3.6/threading.py:334(notify)\n",
      "      179    0.000    0.000    0.000    0.000 /home/callum/.local/lib/python3.6/site-packages/tensorflow/python/util/compat.py:42(as_bytes)\n",
      "      179    0.000    0.000    0.000    0.000 /home/callum/.local/lib/python3.6/site-packages/tensorflow/python/framework/ops.py:5074(is_feedable)\n",
      "      360    0.000    0.000    0.000    0.000 {built-in method builtins.setattr}\n",
      "      358    0.000    0.000    0.000    0.000 /home/callum/.local/lib/python3.6/site-packages/tensorflow/python/framework/ops.py:371(graph)\n",
      "       30    0.000    0.000    0.000    0.000 /home/callum/.local/lib/python3.6/site-packages/Box2D/Box2D.py:2957(__init__)\n",
      "       26    0.000    0.000    0.000    0.000 /home/callum/.local/lib/python3.6/site-packages/numpy/core/_dtype.py:333(_name_get)\n",
      "       41    0.000    0.000    0.000    0.000 {method 'random' of 'numpy.random.mtrand.RandomState' objects}\n",
      "      138    0.000    0.000    0.000    0.000 /home/callum/.local/lib/python3.6/site-packages/tensorflow/python/framework/ops.py:5624(get_default)\n",
      "     1602    0.000    0.000    0.000    0.000 {built-in method builtins.len}\n",
      "      138    0.000    0.000    0.000    0.000 /home/callum/.local/lib/python3.6/site-packages/tensorflow/python/util/lock_util.py:74(group)\n",
      "      138    0.000    0.000    0.000    0.000 /home/callum/.local/lib/python3.6/site-packages/tensorflow/python/framework/ops.py:3259(version)\n",
      "      183    0.000    0.000    0.000    0.000 /home/callum/.local/lib/python3.6/site-packages/tensorflow/python/framework/ops.py:2130(name)\n",
      "       30    0.000    0.000    0.000    0.000 /home/callum/.local/lib/python3.6/site-packages/Box2D/Box2D.py:3778(__init__)\n",
      "      940    0.000    0.000    0.000    0.000 {method 'append' of 'list' objects}\n",
      "       41    0.000    0.000    0.000    0.000 /home/callum/.local/lib/python3.6/site-packages/tensorflow/python/client/session.py:785(as_default)\n",
      "      138    0.000    0.000    0.000    0.000 {built-in method _pywrap_tensorflow_internal.ExtendSession}\n",
      "      194    0.000    0.000    0.000    0.000 {built-in method _pywrap_tensorflow_internal.TF_OperationOpType}\n",
      "      138    0.000    0.000    0.000    0.000 {built-in method builtins.any}\n",
      "      220    0.000    0.000    0.000    0.000 /home/callum/.local/lib/python3.6/site-packages/tensorflow/python/framework/ops.py:5437(get_default)\n",
      "      164    0.000    0.000    0.000    0.000 /home/callum/.local/lib/python3.6/site-packages/numpy/core/shape_base.py:348(_stack_dispatcher)\n",
      "      376    0.000    0.000    0.000    0.000 {method 'get' of 'dict' objects}\n",
      "      138    0.000    0.000    0.000    0.000 /home/callum/.local/lib/python3.6/site-packages/tensorflow/python/client/session.py:497(_assert_fetchable)\n",
      "      358    0.000    0.000    0.000    0.000 /home/callum/.local/lib/python3.6/site-packages/tensorflow/python/framework/tensor_shape.py:805(rank)\n",
      "      138    0.000    0.000    0.000    0.000 /home/callum/.local/lib/python3.6/site-packages/tensorflow/python/client/session.py:197(_is_attrs_instance)\n",
      "       41    0.000    0.000    0.000    0.000 /home/callum/.local/lib/python3.6/site-packages/tensorflow/python/framework/ops.py:5476(default_session)\n",
      "       15    0.000    0.000    0.000    0.000 <__array_function__ internals>:2(argmax)\n",
      "     2476    0.000    0.000    0.000    0.000 {method 'bit_length' of 'int' objects}\n",
      "     1283    0.000    0.000    0.000    0.000 {built-in method builtins.id}\n",
      "      317    0.000    0.000    0.000    0.000 /home/callum/.local/lib/python3.6/site-packages/tensorflow/python/client/session.py:1332(<genexpr>)\n",
      "      138    0.000    0.000    0.000    0.000 /home/callum/.local/lib/python3.6/site-packages/six.py:588(iteritems)\n",
      "      183    0.000    0.000    0.000    0.000 {built-in method _pywrap_tensorflow_internal.TF_OperationName}\n",
      "      757    0.000    0.000    0.000    0.000 /home/callum/.local/lib/python3.6/site-packages/tensorflow/python/client/session.py:766(graph)\n",
      "      138    0.000    0.000    0.000    0.000 /home/callum/.local/lib/python3.6/site-packages/tensorflow/python/client/session.py:495(<listcomp>)\n",
      "       82    0.000    0.000    0.000    0.000 /home/callum/.local/lib/python3.6/site-packages/tensorflow/python/framework/ops.py:5524(get_default_session)\n",
      "      414    0.000    0.000    0.000    0.000 /home/callum/.local/lib/python3.6/site-packages/tensorflow/python/util/lock_util.py:110(_validate_group_id)\n",
      "       15    0.000    0.000    0.000    0.000 /home/callum/.local/lib/python3.6/site-packages/numpy/core/fromnumeric.py:1112(argmax)\n",
      "      138    0.000    0.000    0.000    0.000 /usr/lib/python3.6/threading.py:254(_is_owned)\n",
      "      414    0.000    0.000    0.000    0.000 {method 'acquire' of '_thread.lock' objects}\n",
      "       26    0.000    0.000    0.000    0.000 /home/callum/.local/lib/python3.6/site-packages/numpy/core/_dtype.py:319(_name_includes_bit_suffix)\n",
      "      164    0.000    0.000    0.000    0.000 /home/callum/.local/lib/python3.6/site-packages/numpy/core/shape_base.py:209(_arrays_for_stack_dispatcher)\n",
      "       72    0.000    0.000    0.000    0.000 /usr/lib/python3.6/_weakrefset.py:58(__iter__)\n",
      "      138    0.000    0.000    0.000    0.000 <string>:12(__new__)\n",
      "      276    0.000    0.000    0.000    0.000 /home/callum/.local/lib/python3.6/site-packages/tensorflow/python/util/lock_util.py:108(<genexpr>)\n",
      "      138    0.000    0.000    0.000    0.000 /home/callum/.local/lib/python3.6/site-packages/tensorflow/python/eager/context.py:211(pop)\n",
      "      179    0.000    0.000    0.000    0.000 /home/callum/.local/lib/python3.6/site-packages/tensorflow/python/framework/ops.py:510(get_shape)\n",
      "      399    0.000    0.000    0.000    0.000 /home/callum/.local/lib/python3.6/site-packages/tensorflow/python/framework/ops.py:2517(graph)\n",
      "        7    0.000    0.000    0.000    0.000 /usr/lib/python3.6/typing.py:875(__extrahook__)\n",
      "      101    0.000    0.000    0.000    0.000 /home/callum/.local/lib/python3.6/site-packages/Box2D/Box2D.py:3909(__GetPosition)\n",
      "      138    0.000    0.000    0.000    0.000 /home/callum/.local/lib/python3.6/site-packages/tensorflow/python/framework/ops.py:5082(is_fetchable)\n",
      "       41    0.000    0.000    0.000    0.000 /home/callum/smart-ml/RL-agents/deep_qnet_agent.py:260(<listcomp>)\n",
      "       30    0.000    0.000    0.000    0.000 /home/callum/.local/lib/python3.6/site-packages/Box2D/Box2D.py:4648(CreateFixture)\n",
      "      123    0.000    0.000    0.000    0.000 /home/callum/.local/lib/python3.6/site-packages/Box2D/Box2D.py:3919(__GetAngle)\n",
      "       41    0.000    0.000    0.000    0.000 /home/callum/.local/lib/python3.6/site-packages/gym/spaces/discrete.py:21(contains)\n",
      "       41    0.000    0.000    0.000    0.000 /home/callum/smart-ml/RL-agents/deep_qnet_agent.py:262(<listcomp>)\n",
      "      138    0.000    0.000    0.000    0.000 /home/callum/.local/lib/python3.6/site-packages/tensorflow/python/client/session.py:319(build_results)\n",
      "      138    0.000    0.000    0.000    0.000 /home/callum/.local/lib/python3.6/site-packages/tensorflow/python/client/session.py:1333(<listcomp>)\n",
      "       26    0.000    0.000    0.000    0.000 /home/callum/.local/lib/python3.6/site-packages/numpy/core/numerictypes.py:365(issubdtype)\n",
      "      164    0.000    0.000    0.000    0.000 {built-in method numpy.core._multiarray_umath.normalize_axis_index}\n",
      "      317    0.000    0.000    0.000    0.000 {method 'pop' of 'list' objects}\n",
      "       56    0.000    0.000    0.000    0.000 {method 'reshape' of 'numpy.ndarray' objects}\n",
      "      276    0.000    0.000    0.000    0.000 /home/callum/.local/lib/python3.6/site-packages/tensorflow/python/framework/ops.py:616(_as_tf_output)\n",
      "       15    0.000    0.000    0.000    0.000 /home/callum/.local/lib/python3.6/site-packages/numpy/core/fromnumeric.py:55(_wrapfunc)\n",
      "      414    0.000    0.000    0.000    0.000 /home/callum/.local/lib/python3.6/site-packages/tensorflow/python/eager/context.py:1386(context)\n",
      "      471    0.000    0.000    0.000    0.000 /home/callum/.local/lib/python3.6/site-packages/tensorflow/python/framework/ops.py:361(op)\n",
      "      179    0.000    0.000    0.000    0.000 {method 'encode' of 'str' objects}\n",
      "      101    0.000    0.000    0.000    0.000 {built-in method Box2D._Box2D.b2Body___GetPosition}\n",
      "      317    0.000    0.000    0.000    0.000 {built-in method builtins.iter}\n",
      "       30    0.000    0.000    0.000    0.000 /home/callum/.local/lib/python3.6/site-packages/Box2D/Box2D.py:4466(__CreateFixture)\n",
      "       15    0.000    0.000    0.000    0.000 {method 'argmax' of 'numpy.ndarray' objects}\n",
      "      179    0.000    0.000    0.000    0.000 /home/callum/.local/lib/python3.6/site-packages/tensorflow/python/framework/ops.py:376(name)\n",
      "      179    0.000    0.000    0.000    0.000 /home/callum/.local/lib/python3.6/site-packages/tensorflow/python/framework/dtypes.py:123(as_numpy_dtype)\n",
      "       52    0.000    0.000    0.000    0.000 /home/callum/.local/lib/python3.6/site-packages/numpy/core/numerictypes.py:293(issubclass_)\n",
      "      138    0.000    0.000    0.000    0.000 {built-in method __new__ of type object at 0x9d12c0}\n",
      "      276    0.000    0.000    0.000    0.000 /home/callum/.local/lib/python3.6/site-packages/tensorflow/python/eager/context.py:1312(context_switches)\n",
      "      276    0.000    0.000    0.000    0.000 {method 'release' of '_thread.lock' objects}\n",
      "      138    0.000    0.000    0.000    0.000 /home/callum/.local/lib/python3.6/site-packages/tensorflow/python/util/lock_util.py:119(__init__)\n",
      "      123    0.000    0.000    0.000    0.000 {built-in method Box2D._Box2D.b2Body___GetAngle}\n",
      "       30    0.000    0.000    0.000    0.000 /home/callum/.local/lib/python3.6/site-packages/Box2D/Box2D.py:6001(__CreateBody)\n",
      "      179    0.000    0.000    0.000    0.000 /home/callum/.local/lib/python3.6/site-packages/tensorflow/python/framework/ops.py:390(shape)\n",
      "       30    0.000    0.000    0.000    0.000 {built-in method Box2D._Box2D.b2Body___CreateFixture}\n",
      "      138    0.000    0.000    0.000    0.000 /home/callum/.local/lib/python3.6/site-packages/tensorflow/python/client/session.py:130(<lambda>)\n",
      "      358    0.000    0.000    0.000    0.000 /home/callum/.local/lib/python3.6/site-packages/tensorflow/python/framework/tensor_shape.py:231(value)\n",
      "       62    0.000    0.000    0.000    0.000 {built-in method math.log}\n",
      "      246    0.000    0.000    0.000    0.000 /home/callum/.local/lib/python3.6/site-packages/numpy/core/multiarray.py:145(concatenate)\n",
      "       30    0.000    0.000    0.000    0.000 /home/callum/.local/lib/python3.6/site-packages/Box2D/Box2D.py:4867(__SetCategoryBits)\n",
      "      164    0.000    0.000    0.000    0.000 {built-in method builtins.hasattr}\n",
      "       30    0.000    0.000    0.000    0.000 {built-in method Box2D._Box2D.b2CircleShape_swiginit}\n",
      "      179    0.000    0.000    0.000    0.000 /home/callum/.local/lib/python3.6/site-packages/tensorflow/python/client/session.py:131(<lambda>)\n",
      "      358    0.000    0.000    0.000    0.000 /home/callum/.local/lib/python3.6/site-packages/tensorflow/python/framework/tensor_shape.py:812(dims)\n",
      "       31    0.000    0.000    0.000    0.000 /usr/lib/python3.6/_weakrefset.py:26(__exit__)\n",
      "       37    0.000    0.000    0.000    0.000 {method '__subclasses__' of 'type' objects}\n",
      "      138    0.000    0.000    0.000    0.000 /home/callum/.local/lib/python3.6/site-packages/tensorflow/python/framework/ops.py:5106(_device_function_stack)\n",
      "       30    0.000    0.000    0.000    0.000 {built-in method Box2D._Box2D.b2World___CreateBody}\n",
      "       62    0.000    0.000    0.000    0.000 {built-in method math.ceil}\n",
      "       41    0.000    0.000    0.000    0.000 /home/callum/.local/lib/python3.6/site-packages/Box2D/Box2D.py:3962(__GetLinearVelocity)\n",
      "      8/4    0.000    0.000    0.000    0.000 /usr/lib/python3.6/typing.py:1164(__setattr__)\n",
      "      138    0.000    0.000    0.000    0.000 /home/callum/.local/lib/python3.6/site-packages/tensorflow/python/client/session.py:316(unique_fetches)\n",
      "       41    0.000    0.000    0.000    0.000 /home/callum/.local/lib/python3.6/site-packages/Box2D/Box2D.py:4333(__IsAwake)\n",
      "       30    0.000    0.000    0.000    0.000 {built-in method Box2D._Box2D.b2FixtureDef_swiginit}\n",
      "       30    0.000    0.000    0.000    0.000 {built-in method Box2D._Box2D.b2BodyDef_swiginit}\n",
      "       30    0.000    0.000    0.000    0.000 /home/callum/.local/lib/python3.6/site-packages/Box2D/Box2D.py:4871(__SetMaskBits)\n",
      "      179    0.000    0.000    0.000    0.000 /home/callum/.local/lib/python3.6/site-packages/tensorflow/python/framework/ops.py:366(dtype)\n",
      "       31    0.000    0.000    0.000    0.000 /usr/lib/python3.6/_weakrefset.py:20(__enter__)\n",
      "       31    0.000    0.000    0.000    0.000 /usr/lib/python3.6/_weakrefset.py:81(add)\n",
      "       26    0.000    0.000    0.000    0.000 {method 'format' of 'str' objects}\n",
      "      138    0.000    0.000    0.000    0.000 /home/callum/.local/lib/python3.6/site-packages/tensorflow/python/client/session.py:502(fetches)\n",
      "        1    0.000    0.000    0.000    0.000 /home/callum/.local/lib/python3.6/site-packages/tensorflow/python/framework/c_api_util.py:176(tf_output)\n",
      "       30    0.000    0.000    0.000    0.000 /home/callum/.local/lib/python3.6/site-packages/Box2D/Box2D.py:3837(fixtures)\n",
      "      138    0.000    0.000    0.000    0.000 /home/callum/.local/lib/python3.6/site-packages/tensorflow/python/client/session.py:1334(<listcomp>)\n",
      "      138    0.000    0.000    0.000    0.000 /home/callum/.local/lib/python3.6/site-packages/tensorflow/python/client/session.py:510(targets)\n",
      "      138    0.000    0.000    0.000    0.000 /home/callum/.local/lib/python3.6/site-packages/tensorflow/python/framework/ops.py:3529(building_function)\n",
      "       41    0.000    0.000    0.000    0.000 /home/callum/.local/lib/python3.6/site-packages/Box2D/Box2D.py:3987(__GetAngularVelocity)\n",
      "       26    0.000    0.000    0.000    0.000 /home/callum/.local/lib/python3.6/site-packages/numpy/core/_dtype.py:36(_kind_name)\n",
      "       41    0.000    0.000    0.000    0.000 {built-in method math.sin}\n",
      "       41    0.000    0.000    0.000    0.000 {built-in method Box2D._Box2D.b2Body___GetLinearVelocity}\n",
      "       30    0.000    0.000    0.000    0.000 /home/callum/.local/lib/python3.6/site-packages/Box2D/Box2D.py:3825(__del__)\n",
      "       30    0.000    0.000    0.000    0.000 /home/callum/smart-ml/RL-agents/full_lander_sim.py:243(_clean_particles)\n",
      "        2    0.000    0.000    0.000    0.000 /usr/lib/python3.6/typing.py:1039(_abc_negative_cache_version)\n",
      "       90    0.000    0.000    0.000    0.000 /home/callum/.local/lib/python3.6/site-packages/Box2D/Box2D.py:3833(fixtures)\n",
      "       25    0.000    0.000    0.000    0.000 /usr/lib/python3.6/typing.py:1019(_abc_negative_cache)\n",
      "       41    0.000    0.000    0.000    0.000 {built-in method Box2D._Box2D.b2Body___IsAwake}\n",
      "       30    0.000    0.000    0.000    0.000 {built-in method Box2D._Box2D.new_b2FixtureDef}\n",
      "        3    0.000    0.000    0.000    0.000 /home/callum/.local/lib/python3.6/site-packages/tensorflow/python/pywrap_tensorflow_internal.py:1397(<lambda>)\n",
      "       30    0.000    0.000    0.000    0.000 /home/callum/.local/lib/python3.6/site-packages/Box2D/Box2D.py:4863(__del__)\n",
      "       27    0.000    0.000    0.000    0.000 /usr/lib/python3.6/typing.py:1089(__eq__)\n",
      "       41    0.000    0.000    0.000    0.000 {built-in method math.cos}\n",
      "       30    0.000    0.000    0.000    0.000 {built-in method Box2D._Box2D.new_b2CircleShape}\n",
      "        1    0.000    0.000    0.000    0.000 /home/callum/.local/lib/python3.6/site-packages/tensorflow/python/pywrap_tensorflow_internal.py:1410(__init__)\n",
      "       16    0.000    0.000    0.000    0.000 /usr/lib/python3.6/typing.py:1033(_abc_negative_cache_version)\n",
      "       31    0.000    0.000    0.000    0.000 /usr/lib/python3.6/_weakrefset.py:16(__init__)\n",
      "        3    0.000    0.000    0.000    0.000 /home/callum/.local/lib/python3.6/site-packages/tensorflow/python/pywrap_tensorflow_internal.py:58(_swig_setattr)\n",
      "       64    0.000    0.000    0.000    0.000 {built-in method sys._getframe}\n",
      "        9    0.000    0.000    0.000    0.000 /usr/lib/python3.6/_weakrefset.py:36(__init__)\n",
      "       31    0.000    0.000    0.000    0.000 /usr/lib/python3.6/_weakrefset.py:52(_commit_removals)\n",
      "        3    0.000    0.000    0.000    0.000 /home/callum/.local/lib/python3.6/site-packages/tensorflow/python/pywrap_tensorflow_internal.py:39(_swig_setattr_nondynamic)\n",
      "       31    0.000    0.000    0.000    0.000 {method 'remove' of 'set' objects}\n",
      "       82    0.000    0.000    0.000    0.000 {built-in method builtins.abs}\n",
      "       41    0.000    0.000    0.000    0.000 {built-in method Box2D._Box2D.b2Body___GetAngularVelocity}\n",
      "       30    0.000    0.000    0.000    0.000 /home/callum/.local/lib/python3.6/site-packages/Box2D/Box2D.py:3844(shapes)\n",
      "        2    0.000    0.000    0.000    0.000 /usr/lib/python3.6/typing.py:1025(_abc_negative_cache)\n",
      "       30    0.000    0.000    0.000    0.000 {built-in method Box2D._Box2D.new_b2BodyDef}\n",
      "        1    0.000    0.000    0.000    0.000 /home/callum/.local/lib/python3.6/site-packages/tensorflow/python/pywrap_tensorflow_internal.py:1399(<lambda>)\n",
      "       15    0.000    0.000    0.000    0.000 /usr/lib/python3.6/_collections_abc.py:392(__subclasshook__)\n",
      "       15    0.000    0.000    0.000    0.000 /home/callum/.local/lib/python3.6/site-packages/numpy/core/fromnumeric.py:1108(_argmax_dispatcher)\n",
      "        4    0.000    0.000    0.000    0.000 /usr/lib/python3.6/typing.py:889(__extrahook__)\n",
      "       16    0.000    0.000    0.000    0.000 {method 'startswith' of 'str' objects}\n",
      "        1    0.000    0.000    0.000    0.000 /home/callum/.local/lib/python3.6/site-packages/tensorflow/python/pywrap_tensorflow_internal.py:73(_swig_getattr)\n",
      "        1    0.000    0.000    0.000    0.000 /home/callum/.local/lib/python3.6/site-packages/tensorflow/python/pywrap_tensorflow_internal.py:62(_swig_getattr_nondynamic)\n",
      "        1    0.000    0.000    0.000    0.000 /home/callum/.local/lib/python3.6/site-packages/tensorflow/python/framework/ops.py:577(value_index)\n",
      "        1    0.000    0.000    0.000    0.000 {built-in method _pywrap_tensorflow_internal.TF_Output_oper_set}\n",
      "        1    0.000    0.000    0.000    0.000 {built-in method _pywrap_tensorflow_internal.TF_Output_index_set}\n",
      "        1    0.000    0.000    0.000    0.000 {built-in method _pywrap_tensorflow_internal.new_TF_Output}\n",
      "       12    0.000    0.000    0.000    0.000 /usr/lib/python3.6/_collections_abc.py:302(__subclasshook__)\n",
      "        1    0.000    0.000    0.000    0.000 {method 'disable' of '_lsprof.Profiler' objects}\n",
      "\n",
      "\n"
     ]
    },
    {
     "data": {
      "text/plain": [
       "<pstats.Stats at 0x7faa24628c88>"
      ]
     },
     "execution_count": 12,
     "metadata": {},
     "output_type": "execute_result"
    }
   ],
   "source": [
    "import cProfile, pstats\n",
    "env = LanderEnvironment()\n",
    "agent = DQNAgentDemo(agent_config(),network_config(),env,demo_exp)\n",
    "ps = t_qnet(agent,env,41)\n",
    "ps.print_stats()"
   ]
  },
  {
   "cell_type": "markdown",
   "metadata": {},
   "source": [
    "Run the deep agent"
   ]
  },
  {
   "cell_type": "code",
   "execution_count": 24,
   "metadata": {},
   "outputs": [
    {
     "name": "stdout",
     "output_type": "stream",
     "text": [
      "{'gamma': 0.9, 'eps0': 0.5, 'epsf': 0.0, 'n_eps': 800, 'minib': 20, 'minib_demo': 50, 'max_mem': 500000}\n",
      "{'alpha': 0.001, 'clip_norm': 1.0, 'update_steps': 50, 'N_hid_1': 120, 'N_hid_2': 80, 'activation': 'tanh', 'init_mag': 0.01}\n",
      "Agent 0\n",
      "WARNING:tensorflow:From /home/callum/.local/lib/python3.6/site-packages/tensorflow/python/ops/clip_ops.py:157: add_dispatch_support.<locals>.wrapper (from tensorflow.python.ops.array_ops) is deprecated and will be removed in a future version.\n",
      "Instructions for updating:\n",
      "Use tf.where in 2.0, which has the same broadcast rule as np.where\n"
     ]
    },
    {
     "data": {
      "application/vnd.jupyter.widget-view+json": {
       "model_id": "ca93fe4a9611429dab5d9bc366362f78",
       "version_major": 2,
       "version_minor": 0
      },
      "text/plain": [
       "HBox(children=(IntProgress(value=0, description='bar_desc', max=1000, style=ProgressStyle(description_width='i…"
      ]
     },
     "metadata": {},
     "output_type": "display_data"
    },
    {
     "ename": "KeyboardInterrupt",
     "evalue": "",
     "output_type": "error",
     "traceback": [
      "\u001b[0;31m---------------------------------------------------------------------------\u001b[0m",
      "\u001b[0;31mKeyboardInterrupt\u001b[0m                         Traceback (most recent call last)",
      "\u001b[0;32m<ipython-input-24-26625ebcea01>\u001b[0m in \u001b[0;36m<module>\u001b[0;34m\u001b[0m\n\u001b[1;32m     13\u001b[0m     \u001b[0magent\u001b[0m \u001b[0;34m=\u001b[0m \u001b[0mDQNAgentDemo\u001b[0m\u001b[0;34m(\u001b[0m\u001b[0magent_config\u001b[0m\u001b[0;34m(\u001b[0m\u001b[0;34m)\u001b[0m\u001b[0;34m,\u001b[0m\u001b[0mnetwork_config\u001b[0m\u001b[0;34m(\u001b[0m\u001b[0;34m)\u001b[0m\u001b[0;34m,\u001b[0m\u001b[0menv\u001b[0m\u001b[0;34m,\u001b[0m\u001b[0mdemo_exp\u001b[0m\u001b[0;34m)\u001b[0m\u001b[0;34m\u001b[0m\u001b[0;34m\u001b[0m\u001b[0m\n\u001b[1;32m     14\u001b[0m \u001b[0;34m\u001b[0m\u001b[0m\n\u001b[0;32m---> 15\u001b[0;31m     \u001b[0mR_ep\u001b[0m\u001b[0;34m,\u001b[0m \u001b[0magent\u001b[0m\u001b[0;34m,\u001b[0m \u001b[0menv\u001b[0m \u001b[0;34m=\u001b[0m \u001b[0mdo_run\u001b[0m\u001b[0;34m(\u001b[0m\u001b[0magent\u001b[0m\u001b[0;34m,\u001b[0m \u001b[0menv\u001b[0m\u001b[0;34m,\u001b[0m \u001b[0mN_ep\u001b[0m\u001b[0;34m)\u001b[0m\u001b[0;34m\u001b[0m\u001b[0;34m\u001b[0m\u001b[0m\n\u001b[0m\u001b[1;32m     16\u001b[0m     \u001b[0mmean_end\u001b[0m \u001b[0;34m=\u001b[0m \u001b[0mnp\u001b[0m\u001b[0;34m.\u001b[0m\u001b[0mmean\u001b[0m\u001b[0;34m(\u001b[0m\u001b[0mR_ep\u001b[0m\u001b[0;34m[\u001b[0m\u001b[0;34m-\u001b[0m\u001b[0;36m100\u001b[0m\u001b[0;34m:\u001b[0m\u001b[0;34m]\u001b[0m\u001b[0;34m)\u001b[0m\u001b[0;34m\u001b[0m\u001b[0;34m\u001b[0m\u001b[0m\n\u001b[1;32m     17\u001b[0m     \u001b[0mprint\u001b[0m\u001b[0;34m(\u001b[0m\u001b[0;34m'R end: '\u001b[0m \u001b[0;34m+\u001b[0m \u001b[0mrepr\u001b[0m\u001b[0;34m(\u001b[0m\u001b[0mmean_end\u001b[0m\u001b[0;34m)\u001b[0m\u001b[0;34m)\u001b[0m\u001b[0;34m\u001b[0m\u001b[0;34m\u001b[0m\u001b[0m\n",
      "\u001b[0;32m<ipython-input-11-5629bfd49661>\u001b[0m in \u001b[0;36mdo_run\u001b[0;34m(agent, env, N_ep)\u001b[0m\n\u001b[1;32m    100\u001b[0m             \u001b[0maction\u001b[0m \u001b[0;34m=\u001b[0m \u001b[0magent\u001b[0m\u001b[0;34m.\u001b[0m\u001b[0maction_select\u001b[0m\u001b[0;34m(\u001b[0m\u001b[0menv\u001b[0m\u001b[0;34m,\u001b[0m\u001b[0mobservation\u001b[0m\u001b[0;34m)\u001b[0m\u001b[0;34m\u001b[0m\u001b[0;34m\u001b[0m\u001b[0m\n\u001b[1;32m    101\u001b[0m             \u001b[0mobservation\u001b[0m\u001b[0;34m,\u001b[0m \u001b[0mreward\u001b[0m\u001b[0;34m,\u001b[0m \u001b[0mdone\u001b[0m\u001b[0;34m,\u001b[0m \u001b[0minfo\u001b[0m \u001b[0;34m=\u001b[0m \u001b[0menv\u001b[0m\u001b[0;34m.\u001b[0m\u001b[0mstep\u001b[0m\u001b[0;34m(\u001b[0m\u001b[0maction\u001b[0m\u001b[0;34m)\u001b[0m\u001b[0;34m\u001b[0m\u001b[0;34m\u001b[0m\u001b[0m\n\u001b[0;32m--> 102\u001b[0;31m             \u001b[0magent\u001b[0m\u001b[0;34m.\u001b[0m\u001b[0mupdate_net\u001b[0m\u001b[0;34m(\u001b[0m\u001b[0mobservation\u001b[0m\u001b[0;34m,\u001b[0m\u001b[0mreward\u001b[0m\u001b[0;34m,\u001b[0m\u001b[0mdone\u001b[0m\u001b[0;34m)\u001b[0m\u001b[0;34m\u001b[0m\u001b[0;34m\u001b[0m\u001b[0m\n\u001b[0m\u001b[1;32m    103\u001b[0m             \u001b[0mr\u001b[0m \u001b[0;34m+=\u001b[0m \u001b[0mreward\u001b[0m\u001b[0;34m\u001b[0m\u001b[0;34m\u001b[0m\u001b[0m\n\u001b[1;32m    104\u001b[0m             \u001b[0mn_step\u001b[0m \u001b[0;34m+=\u001b[0m\u001b[0;36m1\u001b[0m\u001b[0;34m\u001b[0m\u001b[0;34m\u001b[0m\u001b[0m\n",
      "\u001b[0;32m~/smart-ml/RL-agents/deep_qnet_agent.py\u001b[0m in \u001b[0;36mupdate_net\u001b[0;34m(self, state, reward, done)\u001b[0m\n\u001b[1;32m    201\u001b[0m \u001b[0;31m#                       self.sess.run(self.bt_assign)\u001b[0m\u001b[0;34m\u001b[0m\u001b[0;34m\u001b[0m\u001b[0;34m\u001b[0m\u001b[0m\n\u001b[1;32m    202\u001b[0m \u001b[0;31m#                       self.sess.run(self.Wt_assign)\u001b[0m\u001b[0;34m\u001b[0m\u001b[0;34m\u001b[0m\u001b[0;34m\u001b[0m\u001b[0m\n\u001b[0;32m--> 203\u001b[0;31m                         \u001b[0mself\u001b[0m\u001b[0;34m.\u001b[0m\u001b[0mupdate_target\u001b[0m\u001b[0;34m(\u001b[0m\u001b[0;34m)\u001b[0m\u001b[0;34m\u001b[0m\u001b[0;34m\u001b[0m\u001b[0m\n\u001b[0m\u001b[1;32m    204\u001b[0m                         \u001b[0mself\u001b[0m\u001b[0;34m.\u001b[0m\u001b[0mstep_count\u001b[0m\u001b[0;34m=\u001b[0m\u001b[0;36m0\u001b[0m\u001b[0;34m\u001b[0m\u001b[0;34m\u001b[0m\u001b[0m\n",
      "\u001b[0;32m~/smart-ml/RL-agents/deep_qnet_agent.py\u001b[0m in \u001b[0;36mtarget_assign\u001b[0;34m()\u001b[0m\n\u001b[1;32m    108\u001b[0m                                         \u001b[0mself\u001b[0m\u001b[0;34m.\u001b[0m\u001b[0mtarget_weights\u001b[0m\u001b[0;34m[\u001b[0m\u001b[0mw\u001b[0m\u001b[0;34m]\u001b[0m\u001b[0;34m.\u001b[0m\u001b[0massign\u001b[0m\u001b[0;34m(\u001b[0m\u001b[0mself\u001b[0m\u001b[0;34m.\u001b[0m\u001b[0mweights\u001b[0m\u001b[0;34m[\u001b[0m\u001b[0mw\u001b[0m\u001b[0;34m]\u001b[0m\u001b[0;34m)\u001b[0m\u001b[0;34m.\u001b[0m\u001b[0meval\u001b[0m\u001b[0;34m(\u001b[0m\u001b[0;34m)\u001b[0m\u001b[0;34m\u001b[0m\u001b[0;34m\u001b[0m\u001b[0m\n\u001b[1;32m    109\u001b[0m                                 \u001b[0;32mfor\u001b[0m \u001b[0mb\u001b[0m \u001b[0;32min\u001b[0m \u001b[0mself\u001b[0m\u001b[0;34m.\u001b[0m\u001b[0mbiases\u001b[0m\u001b[0;34m.\u001b[0m\u001b[0mkeys\u001b[0m\u001b[0;34m(\u001b[0m\u001b[0;34m)\u001b[0m\u001b[0;34m:\u001b[0m\u001b[0;34m\u001b[0m\u001b[0;34m\u001b[0m\u001b[0m\n\u001b[0;32m--> 110\u001b[0;31m                                         \u001b[0mself\u001b[0m\u001b[0;34m.\u001b[0m\u001b[0mtarget_biases\u001b[0m\u001b[0;34m[\u001b[0m\u001b[0mb\u001b[0m\u001b[0;34m]\u001b[0m\u001b[0;34m.\u001b[0m\u001b[0massign\u001b[0m\u001b[0;34m(\u001b[0m\u001b[0mself\u001b[0m\u001b[0;34m.\u001b[0m\u001b[0mbiases\u001b[0m\u001b[0;34m[\u001b[0m\u001b[0mb\u001b[0m\u001b[0;34m]\u001b[0m\u001b[0;34m)\u001b[0m\u001b[0;34m.\u001b[0m\u001b[0meval\u001b[0m\u001b[0;34m(\u001b[0m\u001b[0;34m)\u001b[0m\u001b[0;34m\u001b[0m\u001b[0;34m\u001b[0m\u001b[0m\n\u001b[0m\u001b[1;32m    111\u001b[0m \u001b[0;34m\u001b[0m\u001b[0m\n\u001b[1;32m    112\u001b[0m \u001b[0;31m#               self.wt_assign = self.wt.assign(self.w_in)\u001b[0m\u001b[0;34m\u001b[0m\u001b[0;34m\u001b[0m\u001b[0;34m\u001b[0m\u001b[0m\n",
      "\u001b[0;32m~/.local/lib/python3.6/site-packages/tensorflow/python/framework/ops.py\u001b[0m in \u001b[0;36meval\u001b[0;34m(self, feed_dict, session)\u001b[0m\n\u001b[1;32m    729\u001b[0m \u001b[0;34m\u001b[0m\u001b[0m\n\u001b[1;32m    730\u001b[0m     \"\"\"\n\u001b[0;32m--> 731\u001b[0;31m     \u001b[0;32mreturn\u001b[0m \u001b[0m_eval_using_default_session\u001b[0m\u001b[0;34m(\u001b[0m\u001b[0mself\u001b[0m\u001b[0;34m,\u001b[0m \u001b[0mfeed_dict\u001b[0m\u001b[0;34m,\u001b[0m \u001b[0mself\u001b[0m\u001b[0;34m.\u001b[0m\u001b[0mgraph\u001b[0m\u001b[0;34m,\u001b[0m \u001b[0msession\u001b[0m\u001b[0;34m)\u001b[0m\u001b[0;34m\u001b[0m\u001b[0;34m\u001b[0m\u001b[0m\n\u001b[0m\u001b[1;32m    732\u001b[0m \u001b[0;34m\u001b[0m\u001b[0m\n\u001b[1;32m    733\u001b[0m \u001b[0;34m\u001b[0m\u001b[0m\n",
      "\u001b[0;32m~/.local/lib/python3.6/site-packages/tensorflow/python/framework/ops.py\u001b[0m in \u001b[0;36m_eval_using_default_session\u001b[0;34m(tensors, feed_dict, graph, session)\u001b[0m\n\u001b[1;32m   5577\u001b[0m                        \u001b[0;34m\"the tensor's graph is different from the session's \"\u001b[0m\u001b[0;34m\u001b[0m\u001b[0;34m\u001b[0m\u001b[0m\n\u001b[1;32m   5578\u001b[0m                        \"graph.\")\n\u001b[0;32m-> 5579\u001b[0;31m   \u001b[0;32mreturn\u001b[0m \u001b[0msession\u001b[0m\u001b[0;34m.\u001b[0m\u001b[0mrun\u001b[0m\u001b[0;34m(\u001b[0m\u001b[0mtensors\u001b[0m\u001b[0;34m,\u001b[0m \u001b[0mfeed_dict\u001b[0m\u001b[0;34m)\u001b[0m\u001b[0;34m\u001b[0m\u001b[0;34m\u001b[0m\u001b[0m\n\u001b[0m\u001b[1;32m   5580\u001b[0m \u001b[0;34m\u001b[0m\u001b[0m\n\u001b[1;32m   5581\u001b[0m \u001b[0;34m\u001b[0m\u001b[0m\n",
      "\u001b[0;32m~/.local/lib/python3.6/site-packages/tensorflow/python/client/session.py\u001b[0m in \u001b[0;36mrun\u001b[0;34m(self, fetches, feed_dict, options, run_metadata)\u001b[0m\n\u001b[1;32m    948\u001b[0m     \u001b[0;32mtry\u001b[0m\u001b[0;34m:\u001b[0m\u001b[0;34m\u001b[0m\u001b[0;34m\u001b[0m\u001b[0m\n\u001b[1;32m    949\u001b[0m       result = self._run(None, fetches, feed_dict, options_ptr,\n\u001b[0;32m--> 950\u001b[0;31m                          run_metadata_ptr)\n\u001b[0m\u001b[1;32m    951\u001b[0m       \u001b[0;32mif\u001b[0m \u001b[0mrun_metadata\u001b[0m\u001b[0;34m:\u001b[0m\u001b[0;34m\u001b[0m\u001b[0;34m\u001b[0m\u001b[0m\n\u001b[1;32m    952\u001b[0m         \u001b[0mproto_data\u001b[0m \u001b[0;34m=\u001b[0m \u001b[0mtf_session\u001b[0m\u001b[0;34m.\u001b[0m\u001b[0mTF_GetBuffer\u001b[0m\u001b[0;34m(\u001b[0m\u001b[0mrun_metadata_ptr\u001b[0m\u001b[0;34m)\u001b[0m\u001b[0;34m\u001b[0m\u001b[0;34m\u001b[0m\u001b[0m\n",
      "\u001b[0;32m~/.local/lib/python3.6/site-packages/tensorflow/python/client/session.py\u001b[0m in \u001b[0;36m_run\u001b[0;34m(self, handle, fetches, feed_dict, options, run_metadata)\u001b[0m\n\u001b[1;32m   1171\u001b[0m     \u001b[0;32mif\u001b[0m \u001b[0mfinal_fetches\u001b[0m \u001b[0;32mor\u001b[0m \u001b[0mfinal_targets\u001b[0m \u001b[0;32mor\u001b[0m \u001b[0;34m(\u001b[0m\u001b[0mhandle\u001b[0m \u001b[0;32mand\u001b[0m \u001b[0mfeed_dict_tensor\u001b[0m\u001b[0;34m)\u001b[0m\u001b[0;34m:\u001b[0m\u001b[0;34m\u001b[0m\u001b[0;34m\u001b[0m\u001b[0m\n\u001b[1;32m   1172\u001b[0m       results = self._do_run(handle, final_targets, final_fetches,\n\u001b[0;32m-> 1173\u001b[0;31m                              feed_dict_tensor, options, run_metadata)\n\u001b[0m\u001b[1;32m   1174\u001b[0m     \u001b[0;32melse\u001b[0m\u001b[0;34m:\u001b[0m\u001b[0;34m\u001b[0m\u001b[0;34m\u001b[0m\u001b[0m\n\u001b[1;32m   1175\u001b[0m       \u001b[0mresults\u001b[0m \u001b[0;34m=\u001b[0m \u001b[0;34m[\u001b[0m\u001b[0;34m]\u001b[0m\u001b[0;34m\u001b[0m\u001b[0;34m\u001b[0m\u001b[0m\n",
      "\u001b[0;32m~/.local/lib/python3.6/site-packages/tensorflow/python/client/session.py\u001b[0m in \u001b[0;36m_do_run\u001b[0;34m(self, handle, target_list, fetch_list, feed_dict, options, run_metadata)\u001b[0m\n\u001b[1;32m   1348\u001b[0m     \u001b[0;32mif\u001b[0m \u001b[0mhandle\u001b[0m \u001b[0;32mis\u001b[0m \u001b[0;32mNone\u001b[0m\u001b[0;34m:\u001b[0m\u001b[0;34m\u001b[0m\u001b[0;34m\u001b[0m\u001b[0m\n\u001b[1;32m   1349\u001b[0m       return self._do_call(_run_fn, feeds, fetches, targets, options,\n\u001b[0;32m-> 1350\u001b[0;31m                            run_metadata)\n\u001b[0m\u001b[1;32m   1351\u001b[0m     \u001b[0;32melse\u001b[0m\u001b[0;34m:\u001b[0m\u001b[0;34m\u001b[0m\u001b[0;34m\u001b[0m\u001b[0m\n\u001b[1;32m   1352\u001b[0m       \u001b[0;32mreturn\u001b[0m \u001b[0mself\u001b[0m\u001b[0;34m.\u001b[0m\u001b[0m_do_call\u001b[0m\u001b[0;34m(\u001b[0m\u001b[0m_prun_fn\u001b[0m\u001b[0;34m,\u001b[0m \u001b[0mhandle\u001b[0m\u001b[0;34m,\u001b[0m \u001b[0mfeeds\u001b[0m\u001b[0;34m,\u001b[0m \u001b[0mfetches\u001b[0m\u001b[0;34m)\u001b[0m\u001b[0;34m\u001b[0m\u001b[0;34m\u001b[0m\u001b[0m\n",
      "\u001b[0;32m~/.local/lib/python3.6/site-packages/tensorflow/python/client/session.py\u001b[0m in \u001b[0;36m_do_call\u001b[0;34m(self, fn, *args)\u001b[0m\n\u001b[1;32m   1354\u001b[0m   \u001b[0;32mdef\u001b[0m \u001b[0m_do_call\u001b[0m\u001b[0;34m(\u001b[0m\u001b[0mself\u001b[0m\u001b[0;34m,\u001b[0m \u001b[0mfn\u001b[0m\u001b[0;34m,\u001b[0m \u001b[0;34m*\u001b[0m\u001b[0margs\u001b[0m\u001b[0;34m)\u001b[0m\u001b[0;34m:\u001b[0m\u001b[0;34m\u001b[0m\u001b[0;34m\u001b[0m\u001b[0m\n\u001b[1;32m   1355\u001b[0m     \u001b[0;32mtry\u001b[0m\u001b[0;34m:\u001b[0m\u001b[0;34m\u001b[0m\u001b[0;34m\u001b[0m\u001b[0m\n\u001b[0;32m-> 1356\u001b[0;31m       \u001b[0;32mreturn\u001b[0m \u001b[0mfn\u001b[0m\u001b[0;34m(\u001b[0m\u001b[0;34m*\u001b[0m\u001b[0margs\u001b[0m\u001b[0;34m)\u001b[0m\u001b[0;34m\u001b[0m\u001b[0;34m\u001b[0m\u001b[0m\n\u001b[0m\u001b[1;32m   1357\u001b[0m     \u001b[0;32mexcept\u001b[0m \u001b[0merrors\u001b[0m\u001b[0;34m.\u001b[0m\u001b[0mOpError\u001b[0m \u001b[0;32mas\u001b[0m \u001b[0me\u001b[0m\u001b[0;34m:\u001b[0m\u001b[0;34m\u001b[0m\u001b[0;34m\u001b[0m\u001b[0m\n\u001b[1;32m   1358\u001b[0m       \u001b[0mmessage\u001b[0m \u001b[0;34m=\u001b[0m \u001b[0mcompat\u001b[0m\u001b[0;34m.\u001b[0m\u001b[0mas_text\u001b[0m\u001b[0;34m(\u001b[0m\u001b[0me\u001b[0m\u001b[0;34m.\u001b[0m\u001b[0mmessage\u001b[0m\u001b[0;34m)\u001b[0m\u001b[0;34m\u001b[0m\u001b[0;34m\u001b[0m\u001b[0m\n",
      "\u001b[0;32m~/.local/lib/python3.6/site-packages/tensorflow/python/client/session.py\u001b[0m in \u001b[0;36m_run_fn\u001b[0;34m(feed_dict, fetch_list, target_list, options, run_metadata)\u001b[0m\n\u001b[1;32m   1339\u001b[0m       \u001b[0mself\u001b[0m\u001b[0;34m.\u001b[0m\u001b[0m_extend_graph\u001b[0m\u001b[0;34m(\u001b[0m\u001b[0;34m)\u001b[0m\u001b[0;34m\u001b[0m\u001b[0;34m\u001b[0m\u001b[0m\n\u001b[1;32m   1340\u001b[0m       return self._call_tf_sessionrun(\n\u001b[0;32m-> 1341\u001b[0;31m           options, feed_dict, fetch_list, target_list, run_metadata)\n\u001b[0m\u001b[1;32m   1342\u001b[0m \u001b[0;34m\u001b[0m\u001b[0m\n\u001b[1;32m   1343\u001b[0m     \u001b[0;32mdef\u001b[0m \u001b[0m_prun_fn\u001b[0m\u001b[0;34m(\u001b[0m\u001b[0mhandle\u001b[0m\u001b[0;34m,\u001b[0m \u001b[0mfeed_dict\u001b[0m\u001b[0;34m,\u001b[0m \u001b[0mfetch_list\u001b[0m\u001b[0;34m)\u001b[0m\u001b[0;34m:\u001b[0m\u001b[0;34m\u001b[0m\u001b[0;34m\u001b[0m\u001b[0m\n",
      "\u001b[0;32m~/.local/lib/python3.6/site-packages/tensorflow/python/client/session.py\u001b[0m in \u001b[0;36m_call_tf_sessionrun\u001b[0;34m(self, options, feed_dict, fetch_list, target_list, run_metadata)\u001b[0m\n\u001b[1;32m   1427\u001b[0m     return tf_session.TF_SessionRun_wrapper(\n\u001b[1;32m   1428\u001b[0m         \u001b[0mself\u001b[0m\u001b[0;34m.\u001b[0m\u001b[0m_session\u001b[0m\u001b[0;34m,\u001b[0m \u001b[0moptions\u001b[0m\u001b[0;34m,\u001b[0m \u001b[0mfeed_dict\u001b[0m\u001b[0;34m,\u001b[0m \u001b[0mfetch_list\u001b[0m\u001b[0;34m,\u001b[0m \u001b[0mtarget_list\u001b[0m\u001b[0;34m,\u001b[0m\u001b[0;34m\u001b[0m\u001b[0;34m\u001b[0m\u001b[0m\n\u001b[0;32m-> 1429\u001b[0;31m         run_metadata)\n\u001b[0m\u001b[1;32m   1430\u001b[0m \u001b[0;34m\u001b[0m\u001b[0m\n\u001b[1;32m   1431\u001b[0m   \u001b[0;32mdef\u001b[0m \u001b[0m_call_tf_sessionprun\u001b[0m\u001b[0;34m(\u001b[0m\u001b[0mself\u001b[0m\u001b[0;34m,\u001b[0m \u001b[0mhandle\u001b[0m\u001b[0;34m,\u001b[0m \u001b[0mfeed_dict\u001b[0m\u001b[0;34m,\u001b[0m \u001b[0mfetch_list\u001b[0m\u001b[0;34m)\u001b[0m\u001b[0;34m:\u001b[0m\u001b[0;34m\u001b[0m\u001b[0;34m\u001b[0m\u001b[0m\n",
      "\u001b[0;31mKeyboardInterrupt\u001b[0m: "
     ]
    }
   ],
   "source": [
    "fname = 'lander_full_heuristic_13_11'\n",
    "demo_exp = np.load(open(fname,'rb'),allow_pickle=True).tolist()\n",
    "\n",
    "print(agent_config())\n",
    "print(network_config())\n",
    "\n",
    "N_attempt = 20\n",
    "for agent_no in range(N_attempt):\n",
    "    print('Agent ' + str(agent_no))\n",
    "    \n",
    "    N_ep = 1000\n",
    "    env = LanderEnvironment()\n",
    "    agent = DQNAgentDemo(agent_config(),network_config(),env,demo_exp)\n",
    "    \n",
    "    R_ep, agent, env = do_run(agent, env, N_ep)\n",
    "    mean_end = np.mean(R_ep[-100:])\n",
    "    print('R end: ' + repr(mean_end))\n",
    "    \n",
    "    save_deep_agent(agent, env, 'agent'+str(agent_no))\n",
    "    pickle.dump(R_ep, open('reward'+str(agent_no),'wb'))"
   ]
  },
  {
   "cell_type": "code",
   "execution_count": 9,
   "metadata": {},
   "outputs": [
    {
     "data": {
      "application/vnd.jupyter.widget-view+json": {
       "model_id": "92032ce977b548f481865ca9c442b1be",
       "version_major": 2,
       "version_minor": 0
      },
      "text/plain": [
       "HBox(children=(IntProgress(value=0, max=5), HTML(value='')))"
      ]
     },
     "metadata": {},
     "output_type": "display_data"
    },
    {
     "name": "stdout",
     "output_type": "stream",
     "text": [
      "\n"
     ]
    }
   ],
   "source": [
    "R = agent_demo(agent,env,5)"
   ]
  },
  {
   "cell_type": "code",
   "execution_count": 10,
   "metadata": {},
   "outputs": [],
   "source": [
    "env.gym_env.close()"
   ]
  },
  {
   "cell_type": "code",
   "execution_count": 11,
   "metadata": {},
   "outputs": [
    {
     "data": {
      "text/plain": [
       "[<matplotlib.lines.Line2D at 0x7f741bb24940>]"
      ]
     },
     "execution_count": 11,
     "metadata": {},
     "output_type": "execute_result"
    },
    {
     "data": {
      "image/png": "[encoded data removed]",
      "text/plain": [
       "<Figure size 432x288 with 1 Axes>"
      ]
     },
     "metadata": {
      "needs_background": "light"
     },
     "output_type": "display_data"
    }
   ],
   "source": [
    "plt.plot(R)"
   ]
  },
  {
   "cell_type": "code",
   "execution_count": 21,
   "metadata": {},
   "outputs": [
    {
     "data": {
      "text/plain": [
       "1"
      ]
     },
     "execution_count": 21,
     "metadata": {},
     "output_type": "execute_result"
    }
   ],
   "source": [
    "agent.clip_norm"
   ]
  },
  {
   "cell_type": "code",
   "execution_count": null,
   "metadata": {},
   "outputs": [],
   "source": []
  }
 ],
 "metadata": {
  "kernelspec": {
   "display_name": "Python 3",
   "language": "python",
   "name": "python3"
  },
  "language_info": {
   "codemirror_mode": {
    "name": "ipython",
    "version": 3
   },
   "file_extension": ".py",
   "mimetype": "text/x-python",
   "name": "python",
   "nbconvert_exporter": "python",
   "pygments_lexer": "ipython3",
   "version": "3.6.9"
  }
 },
 "nbformat": 4,
 "nbformat_minor": 4
}
