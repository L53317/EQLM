{
 "cells": [
  {
   "cell_type": "markdown",
   "metadata": {},
   "source": [
    "# Full Sim Training"
   ]
  },
  {
   "cell_type": "code",
   "execution_count": 1,
   "metadata": {},
   "outputs": [],
   "source": [
    "%load_ext autoreload\n",
    "%autoreload 2"
   ]
  },
  {
   "cell_type": "code",
   "execution_count": 3,
   "metadata": {},
   "outputs": [],
   "source": [
    "import numpy as np\n",
    "import matplotlib.pyplot as plt\n",
    "import pickle\n",
    "from tqdm import tqdm_notebook as tqdm\n",
    "from tqdm import trange, tnrange\n",
    "\n",
    "from deep_qnet_agent import DQNAgentDemo\n",
    "from environment import Environment, LanderEnvironment\n",
    "from full_lander_sim import *\n",
    "from gym import wrappers"
   ]
  },
  {
   "cell_type": "code",
   "execution_count": 4,
   "metadata": {},
   "outputs": [],
   "source": [
    "def save_agent(agent, env, fname):\n",
    "    env.reset()\n",
    "    \n",
    "    agentcon = agent_config()\n",
    "    netcon = network_config()\n",
    "    for key in agentcon.keys():\n",
    "        agentcon[key] = getattr(agent, key)\n",
    "    for key in netcon.keys():\n",
    "        netcon[key] = getattr(agent, key)\n",
    "        \n",
    "    netparams = {}\n",
    "    netparams['w_in'] = agent.sess.run(agent.w_in)\n",
    "    netparams['b_in'] = agent.sess.run(agent.b_in)\n",
    "    netparams['W'] = agent.sess.run(agent.W)\n",
    "    agent_data = {'agentcon':agentcon, 'netcon':netcon, 'netparams':netparams,\n",
    "                 'SA':(agent.state_size, agent.action_size), 'env':env}\n",
    "    pickle.dump(agent_data,open(fname,'wb'))\n",
    "    \n",
    "def save_deep_agent(agent, env, fname):\n",
    "    env.reset()\n",
    "    \n",
    "    agentcon = agent_config()\n",
    "    netcon = network_config()\n",
    "    for key in agentcon.keys():\n",
    "        agentcon[key] = getattr(agent, key)\n",
    "    for key in netcon.keys():\n",
    "        netcon[key] = getattr(agent, key)\n",
    "        \n",
    "    netparams = {}\n",
    "    for w in agent.weights.keys():\n",
    "        netparams[w] = agent.sess.run(agent.weights[w])\n",
    "    for b in agent.biases.keys():\n",
    "        netparams[b] = agent.sess.run(agent.biases[b])\n",
    "\n",
    "    agent_data = {'agentcon':agentcon, 'netcon':netcon, 'netparams':netparams,\n",
    "                 'SA':(agent.state_size, agent.action_size), 'env':env}\n",
    "    pickle.dump(agent_data,open(fname,'wb'))\n",
    "    \n",
    "def load_agent(fname):\n",
    "    agent_data = pickle.load(open(fname,'rb'))\n",
    "    env = agent_data['env']\n",
    "    agent = QNetAgent(agent_data['agentcon'],agent_data['netcon'],env)\n",
    "\n",
    "    netparams = agent_data['netparams']\n",
    "    with agent.sess.as_default():\n",
    "        agent.w_in.load(netparams['w_in'])\n",
    "        agent.b_in.load(netparams['b_in'])\n",
    "        agent.W.load(netparams['W'])\n",
    "    print(agent.sess.run(agent.W))\n",
    "    \n",
    "    return agent, env\n",
    "\n",
    "def load_deep_agent(fname):\n",
    "    agent_data = pickle.load(open(fname,'rb'))\n",
    "    env = agent_data['env']\n",
    "    agent = DQNAgentDemo(agent_data['agentcon'],agent_data['netcon'],env)\n",
    "\n",
    "    netparams = agent_data['netparams']\n",
    "    with agent.sess.as_default():\n",
    "        agent.w_in.load(netparams['w_in'])\n",
    "        agent.b_in.load(netparams['b_in'])\n",
    "        agent.W.load(netparams['W'])\n",
    "    print(agent.sess.run(agent.W))\n",
    "    \n",
    "    return agent, env\n",
    "\n",
    "def reset_agent(agent, netcon, agentcon):\n",
    "    \"\"\"\n",
    "    This function resets an agent's hyperparameters while maintaining its weights\n",
    "    \"\"\"\n",
    "    # Reset hyperparams\n",
    "    for key in agentcon.keys():\n",
    "        setattr(agent, key, agentcon[key])\n",
    "    for key in netcon.keys():\n",
    "        setattr(agent, key, netcon[key])\n",
    "    agent.eps = agent.eps0\n",
    "    \n",
    "    # Assign target network\n",
    "    agent.sess.run(agent.wt_assign)\n",
    "    agent.sess.run(agent.bt_assign)\n",
    "    agent.sess.run(agent.Wt_assign)\n",
    "    \n",
    "    # Memory (maintains state transition memory)\n",
    "    agent.prev_s=[]\n",
    "    agent.prev_a=[]\n",
    "    agent.step_count=0\n",
    "    agent.ep_no=0\n",
    "    \n",
    "    return agent\n",
    "\n",
    "def do_run(agent, env, N_ep):\n",
    "    R_ep = []\n",
    "    t = tnrange(N_ep, desc='bar_desc', leave=True)\n",
    "#     for ep_no in tqdm(range(N_ep)):\n",
    "    for ep_no in t:\n",
    "        observation = env.reset()\n",
    "        done = False\n",
    "        r = 0\n",
    "        n_step = 0\n",
    "        while not done:\n",
    "            action = agent.action_select(env,observation)\n",
    "            observation, reward, done, info = env.step(action)\n",
    "            agent.update_net(observation,reward,done)\n",
    "            r += reward\n",
    "            n_step +=1\n",
    "        R_ep.append(r)\n",
    "        t.set_description('Last reward: {}'.format(r))\n",
    "        t.refresh()\n",
    "    return R_ep, agent, env\n",
    "\n",
    "def agent_demo(agent, env, N_ep):\n",
    "    R_ep = []\n",
    "    for ep_no in tqdm(range(N_ep)):\n",
    "        observation = env.reset()\n",
    "        done = False\n",
    "        r = 0\n",
    "        while not done:\n",
    "            action = agent.action_select(env,observation)\n",
    "            observation, reward, done, _ = env.step(action)\n",
    "            env.render()\n",
    "            r += reward\n",
    "        R_ep.append(r)\n",
    "    return R_ep\n",
    "\n",
    "def data_smooth(data,n_avg):\n",
    "\t# A function to average data over n_avg timesteps\n",
    "\tind_vec = np.arange(n_avg,len(data)+1,n_avg)\n",
    "\tdata_avg = [0]\n",
    "\tfor ind in ind_vec:\n",
    "\t\tdata_avg.append(np.mean(data[ind-n_avg:ind]))\n",
    "\treturn data_avg"
   ]
  },
  {
   "cell_type": "markdown",
   "metadata": {},
   "source": [
    "## Environment"
   ]
  },
  {
   "cell_type": "code",
   "execution_count": null,
   "metadata": {},
   "outputs": [],
   "source": [
    "demo_heuristic_lander(MarsLander())"
   ]
  },
  {
   "cell_type": "code",
   "execution_count": 6,
   "metadata": {},
   "outputs": [
    {
     "name": "stdout",
     "output_type": "stream",
     "text": [
      "Episode 1\n",
      "observations: +0.00 -0.00 +0.00 +0.00 -0.00 +0.00 +1.00 +1.00\n",
      "step 1872 total_reward -48.42\n",
      "Episode 1\n",
      "observations: +0.00 -0.00 +0.00 +0.00 -0.00 +0.00 +1.00 +1.00\n",
      "step 1876 total_reward -41.31\n",
      "Episode 1\n",
      "observations: -0.00 -0.00 +0.00 +0.00 +0.00 +0.00 +1.00 +1.00\n",
      "step 1872 total_reward -46.27\n",
      "Episode 1\n",
      "observations: -0.00 -0.00 +0.00 +0.00 +0.00 +0.00 +1.00 +1.00\n",
      "step 1879 total_reward -45.66\n",
      "Episode 1\n",
      "observations: +0.01 -0.00 +0.00 +0.00 -0.00 +0.00 +1.00 +1.00\n",
      "step 1873 total_reward -48.65\n"
     ]
    }
   ],
   "source": [
    "exp_heuristic = exp_heuristic_lander(MarsLander())\n",
    "fname = 'lander_full_heuristic_13_11'\n",
    "np.save(open(fname,'wb'),exp_heuristic)"
   ]
  },
  {
   "cell_type": "code",
   "execution_count": 7,
   "metadata": {},
   "outputs": [
    {
     "data": {
      "text/plain": [
       "(9377, 5)"
      ]
     },
     "execution_count": 7,
     "metadata": {},
     "output_type": "execute_result"
    }
   ],
   "source": [
    "np.shape(exp_heuristic)"
   ]
  },
  {
   "cell_type": "markdown",
   "metadata": {},
   "source": [
    "## Training"
   ]
  },
  {
   "cell_type": "code",
   "execution_count": 5,
   "metadata": {},
   "outputs": [],
   "source": [
    "def network_config():\n",
    "    netcon = {}\n",
    "    netcon['alpha'] = 0.001\n",
    "    netcon['clip_norm'] = None\n",
    "    netcon['update_steps'] = 50\n",
    "    netcon['N_hid_1'] = 120\n",
    "    netcon['N_hid_2'] = 80\n",
    "    netcon['activation'] = 'tanh'\n",
    "    netcon['init_mag'] = 0.01\n",
    "    return netcon\n",
    "\n",
    "def agent_config():\n",
    "    agentcon = {}\n",
    "    agentcon['gamma'] = 0.9\n",
    "    agentcon['eps0'] = 0.5\n",
    "    agentcon['epsf'] = 0.0\n",
    "    agentcon['n_eps'] = 500\n",
    "    agentcon['minib'] = 20\n",
    "    agentcon['minib_demo'] = 50\n",
    "    agentcon['max_mem'] = 500000\n",
    "    return agentcon"
   ]
  },
  {
   "cell_type": "code",
   "execution_count": null,
   "metadata": {},
   "outputs": [],
   "source": [
    "fname = 'lander_full_heuristic_13_11'\n",
    "demo_exp = np.load(open(fname,'rb'),allow_pickle=True).tolist()\n",
    "\n",
    "print(agent_config())\n",
    "print(network_config())\n",
    "\n",
    "mean_end = -500\n",
    "agent_no = 0\n",
    "while mean_end<100:\n",
    "    agent_no+=1\n",
    "    print('Agent ' + str(agent_no))\n",
    "    \n",
    "    N_ep = 600\n",
    "    env = LanderEnvironment()\n",
    "    agent = QNetAgentDemo(agent_config(),network_config(),env,demo_exp)\n",
    "    \n",
    "    R_ep, agent, env = do_run(agent, env, N_ep)\n",
    "    mean_end = np.mean(R_ep[-100:])\n",
    "    print('R end: ' + repr(mean_end))\n",
    "    \n",
    "    save_agent(agent, env, 'agent'+str(agent_no))\n",
    "    pickle.dump(R_ep, open('reward'+str(agent_no),'wb'))"
   ]
  },
  {
   "cell_type": "markdown",
   "metadata": {},
   "source": [
    "## Deep Agents"
   ]
  },
  {
   "cell_type": "code",
   "execution_count": 52,
   "metadata": {},
   "outputs": [],
   "source": [
    "fname = 'lander_full_heuristic_13_11'\n",
    "demo_exp = np.load(open(fname,'rb'),allow_pickle=True).tolist()\n",
    "\n",
    "env = LanderEnvironment()\n",
    "agent = DQNAgentDemo(agent_config(),network_config(),env,demo_exp)"
   ]
  },
  {
   "cell_type": "code",
   "execution_count": 57,
   "metadata": {},
   "outputs": [],
   "source": [
    "s1 = env.reset()\n",
    "s, r, d, _ = env.step(1)"
   ]
  },
  {
   "cell_type": "code",
   "execution_count": 58,
   "metadata": {},
   "outputs": [
    {
     "data": {
      "text/plain": [
       "0"
      ]
     },
     "execution_count": 58,
     "metadata": {},
     "output_type": "execute_result"
    }
   ],
   "source": [
    "agent.action_select(env,s1)"
   ]
  },
  {
   "cell_type": "code",
   "execution_count": 54,
   "metadata": {},
   "outputs": [
    {
     "name": "stdout",
     "output_type": "stream",
     "text": [
      "[ 2.1796165e+00 -9.9561536e-01  9.3502635e-01 -9.1046154e-01\n",
      " -5.7210855e-04  2.3380396e-01  2.3570715e-01  1.6443604e-01\n",
      "  4.7123483e-01 -1.1434834e+00 -4.3427014e-01 -1.2813230e+00\n",
      "  1.2802505e+00  1.2963850e+00 -5.6095493e-01  8.9594066e-01\n",
      "  1.2157131e+00  3.0109772e-01  1.1272312e+00  6.5195638e-01\n",
      " -4.5691055e-01  1.3144650e+00 -9.6425718e-01  6.3277297e-02\n",
      "  6.0508782e-01 -1.1533339e+00 -1.2854043e+00  9.9293870e-01\n",
      " -1.0904906e+00 -3.7116900e-02 -1.9525652e-01 -4.3382615e-02\n",
      "  1.9113785e-01 -8.2117550e-02 -1.0431737e+00 -1.9047740e+00\n",
      " -1.2578098e+00  2.6165736e-01 -4.8489343e-02  2.5848067e-01\n",
      "  1.5080854e+00 -2.0559682e-01 -8.5770673e-01 -3.2241946e-01\n",
      " -1.1612589e+00  5.9074372e-01  2.5714280e-03 -1.2965275e+00\n",
      "  5.1712358e-01  9.6086788e-01  8.5648704e-01  7.0624065e-01\n",
      "  1.2490435e+00  1.1990420e+00 -9.9259639e-01 -1.3364767e-01\n",
      "  1.1368495e+00 -1.4905995e+00  1.1073046e+00  1.6948447e+00\n",
      " -4.7104046e-02  7.5509031e-03 -3.8765371e-01  8.3640569e-01\n",
      "  1.7749270e+00 -1.1186514e-01  1.4415101e+00 -5.9667802e-01\n",
      "  8.3091056e-01 -2.0889238e-01  2.6850352e-01  4.0568146e-01\n",
      " -9.0342999e-01  9.5137084e-01  1.6095144e-01 -2.1883976e+00\n",
      " -8.2064517e-02 -1.2165707e+00  1.5854549e+00 -9.1829807e-01]\n"
     ]
    }
   ],
   "source": [
    "asdf = agent.sess.run(agent.target_weights['w1'])\n",
    "print(asdf[0])"
   ]
  },
  {
   "cell_type": "code",
   "execution_count": 55,
   "metadata": {},
   "outputs": [
    {
     "name": "stdout",
     "output_type": "stream",
     "text": [
      "[ 2.1796165e+00 -9.9561536e-01  9.3502635e-01 -9.1046154e-01\n",
      " -5.7210855e-04  2.3380396e-01  2.3570715e-01  1.6443604e-01\n",
      "  4.7123483e-01 -1.1434834e+00 -4.3427014e-01 -1.2813230e+00\n",
      "  1.2802505e+00  1.2963850e+00 -5.6095493e-01  8.9594066e-01\n",
      "  1.2157131e+00  3.0109772e-01  1.1272312e+00  6.5195638e-01\n",
      " -4.5691055e-01  1.3144650e+00 -9.6425718e-01  6.3277297e-02\n",
      "  6.0508782e-01 -1.1533339e+00 -1.2854043e+00  9.9293870e-01\n",
      " -1.0904906e+00 -3.7116900e-02 -1.9525652e-01 -4.3382615e-02\n",
      "  1.9113785e-01 -8.2117550e-02 -1.0431737e+00 -1.9047740e+00\n",
      " -1.2578098e+00  2.6165736e-01 -4.8489343e-02  2.5848067e-01\n",
      "  1.5080854e+00 -2.0559682e-01 -8.5770673e-01 -3.2241946e-01\n",
      " -1.1612589e+00  5.9074372e-01  2.5714280e-03 -1.2965275e+00\n",
      "  5.1712358e-01  9.6086788e-01  8.5648704e-01  7.0624065e-01\n",
      "  1.2490435e+00  1.1990420e+00 -9.9259639e-01 -1.3364767e-01\n",
      "  1.1368495e+00 -1.4905995e+00  1.1073046e+00  1.6948447e+00\n",
      " -4.7104046e-02  7.5509031e-03 -3.8765371e-01  8.3640569e-01\n",
      "  1.7749270e+00 -1.1186514e-01  1.4415101e+00 -5.9667802e-01\n",
      "  8.3091056e-01 -2.0889238e-01  2.6850352e-01  4.0568146e-01\n",
      " -9.0342999e-01  9.5137084e-01  1.6095144e-01 -2.1883976e+00\n",
      " -8.2064517e-02 -1.2165707e+00  1.5854549e+00 -9.1829807e-01]\n"
     ]
    }
   ],
   "source": [
    "asdf = agent.sess.run(agent.weights['w1'])\n",
    "print(asdf[0])"
   ]
  },
  {
   "cell_type": "markdown",
   "metadata": {},
   "source": [
    "Run the deep agent"
   ]
  },
  {
   "cell_type": "code",
   "execution_count": null,
   "metadata": {},
   "outputs": [
    {
     "name": "stdout",
     "output_type": "stream",
     "text": [
      "{'gamma': 0.9, 'eps0': 0.5, 'epsf': 0.0, 'n_eps': 500, 'minib': 20, 'minib_demo': 50, 'max_mem': 500000}\n",
      "{'alpha': 0.001, 'clip_norm': None, 'update_steps': 50, 'N_hid_1': 120, 'N_hid_2': 80, 'activation': 'tanh', 'init_mag': 0.01}\n",
      "Agent 0\n"
     ]
    },
    {
     "data": {
      "application/vnd.jupyter.widget-view+json": {
       "model_id": "d18f915dab4f4cbe9327ac8226ec14ea",
       "version_major": 2,
       "version_minor": 0
      },
      "text/plain": [
       "HBox(children=(IntProgress(value=0, description='bar_desc', max=600, style=ProgressStyle(description_width='in…"
      ]
     },
     "metadata": {},
     "output_type": "display_data"
    }
   ],
   "source": [
    "fname = 'lander_full_heuristic_13_11'\n",
    "demo_exp = np.load(open(fname,'rb'),allow_pickle=True).tolist()\n",
    "\n",
    "print(agent_config())\n",
    "print(network_config())\n",
    "\n",
    "N_attempt = 20\n",
    "for agent_no in range(N_attempt):\n",
    "    print('Agent ' + str(agent_no))\n",
    "    \n",
    "    N_ep = 600\n",
    "    env = LanderEnvironment()\n",
    "    agent = DQNAgentDemo(agent_config(),network_config(),env,demo_exp)\n",
    "    \n",
    "    R_ep, agent, env = do_run(agent, env, N_ep)\n",
    "    mean_end = np.mean(R_ep[-100:])\n",
    "    print('R end: ' + repr(mean_end))\n",
    "    \n",
    "    save_deep_agent(agent, env, 'agent'+str(agent_no))\n",
    "    pickle.dump(R_ep, open('reward'+str(agent_no),'wb'))"
   ]
  },
  {
   "cell_type": "code",
   "execution_count": 9,
   "metadata": {},
   "outputs": [
    {
     "data": {
      "application/vnd.jupyter.widget-view+json": {
       "model_id": "92032ce977b548f481865ca9c442b1be",
       "version_major": 2,
       "version_minor": 0
      },
      "text/plain": [
       "HBox(children=(IntProgress(value=0, max=5), HTML(value='')))"
      ]
     },
     "metadata": {},
     "output_type": "display_data"
    },
    {
     "name": "stdout",
     "output_type": "stream",
     "text": [
      "\n"
     ]
    }
   ],
   "source": [
    "R = agent_demo(agent,env,5)"
   ]
  },
  {
   "cell_type": "code",
   "execution_count": 10,
   "metadata": {},
   "outputs": [],
   "source": [
    "env.gym_env.close()"
   ]
  },
  {
   "cell_type": "code",
   "execution_count": 11,
   "metadata": {},
   "outputs": [
    {
     "data": {
      "text/plain": [
       "[<matplotlib.lines.Line2D at 0x7f741bb24940>]"
      ]
     },
     "execution_count": 11,
     "metadata": {},
     "output_type": "execute_result"
    },
    {
     "data": {
      "image/png": "[encoded data removed]",
      "text/plain": [
       "<Figure size 432x288 with 1 Axes>"
      ]
     },
     "metadata": {
      "needs_background": "light"
     },
     "output_type": "display_data"
    }
   ],
   "source": [
    "plt.plot(R)"
   ]
  },
  {
   "cell_type": "code",
   "execution_count": null,
   "metadata": {},
   "outputs": [],
   "source": []
  }
 ],
 "metadata": {
  "kernelspec": {
   "display_name": "Python 3",
   "language": "python",
   "name": "python3"
  },
  "language_info": {
   "codemirror_mode": {
    "name": "ipython",
    "version": 3
   },
   "file_extension": ".py",
   "mimetype": "text/x-python",
   "name": "python",
   "nbconvert_exporter": "python",
   "pygments_lexer": "ipython3",
   "version": "3.6.8"
  }
 },
 "nbformat": 4,
 "nbformat_minor": 4
}
