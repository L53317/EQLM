{
 "cells": [
  {
   "cell_type": "markdown",
   "metadata": {},
   "source": [
    "# Module Tests"
   ]
  },
  {
   "cell_type": "code",
   "execution_count": 1,
   "metadata": {},
   "outputs": [],
   "source": [
    "%load_ext autoreload\n",
    "%autoreload 2"
   ]
  },
  {
   "cell_type": "code",
   "execution_count": 3,
   "metadata": {},
   "outputs": [],
   "source": [
    "import numpy as np\n",
    "from agent import EQLMAgent\n",
    "from environment import Environment\n",
    "from networks import ELMNet"
   ]
  },
  {
   "cell_type": "code",
   "execution_count": 37,
   "metadata": {},
   "outputs": [],
   "source": [
    "env = Environment()\n",
    "agent0 = EQLMAgent(env, memory_size=5, N_hid=10)\n",
    "\n",
    "s = env.reset()\n",
    "for _ in range(5):\n",
    "    a = agent0.action_select(s)\n",
    "    s,r,d,_ = env.step(a)\n",
    "    agent0.update(s,r,d)"
   ]
  },
  {
   "cell_type": "code",
   "execution_count": 38,
   "metadata": {},
   "outputs": [
    {
     "data": {
      "text/plain": [
       "[[array([ 9.2743640e-04,  2.6683387e-04,  1.0010840e-03,  1.4010961e-03,\n",
       "          1.5164145e-04,  1.2102125e-03, -5.7251884e-05,  7.1278562e-05,\n",
       "          1.4137109e-03,  6.3159299e-04], dtype=float32),\n",
       "  1,\n",
       "  1.0,\n",
       "  array([7.1721163e-04, 2.8315041e-04, 7.7869138e-04, 9.8475604e-04,\n",
       "         3.0177680e-04, 1.0726434e-03, 2.2435520e-04, 9.0270863e-05,\n",
       "         1.1998720e-03, 4.6922828e-04], dtype=float32),\n",
       "  False],\n",
       " [array([6.9050433e-04, 2.5444062e-04, 7.9475867e-04, 9.5715374e-04,\n",
       "         2.8524021e-04, 1.0910203e-03, 2.2397484e-04, 9.4390831e-05,\n",
       "         1.2098514e-03, 4.5023390e-04], dtype=float32),\n",
       "  0,\n",
       "  1.0,\n",
       "  array([ 9.2743640e-04,  2.6683387e-04,  1.0010840e-03,  1.4010961e-03,\n",
       "          1.5164145e-04,  1.2102125e-03, -5.7251884e-05,  7.1278562e-05,\n",
       "          1.4137109e-03,  6.3159299e-04], dtype=float32),\n",
       "  False],\n",
       " [array([7.1721163e-04, 2.8315041e-04, 7.7869138e-04, 9.8475604e-04,\n",
       "         3.0177680e-04, 1.0726434e-03, 2.2435520e-04, 9.0270863e-05,\n",
       "         1.1998720e-03, 4.6922828e-04], dtype=float32),\n",
       "  0,\n",
       "  1.0,\n",
       "  array([ 9.5971988e-04,  2.9858958e-04,  9.8865433e-04,  1.4339434e-03,\n",
       "          1.6876638e-04,  1.1933303e-03, -6.1451916e-05,  6.5337503e-05,\n",
       "          1.4061210e-03,  6.5259298e-04], dtype=float32),\n",
       "  False]]"
      ]
     },
     "execution_count": 38,
     "metadata": {},
     "output_type": "execute_result"
    }
   ],
   "source": [
    "mem_out = agent0.memory.sample(3)\n",
    "mem_out"
   ]
  },
  {
   "cell_type": "code",
   "execution_count": 40,
   "metadata": {},
   "outputs": [
    {
     "name": "stdout",
     "output_type": "stream",
     "text": [
      "CPU times: user 362 µs, sys: 17 µs, total: 379 µs\n",
      "Wall time: 383 µs\n"
     ]
    },
    {
     "data": {
      "text/plain": [
       "(3, 10)"
      ]
     },
     "execution_count": 40,
     "metadata": {},
     "output_type": "execute_result"
    }
   ],
   "source": [
    "stack_sample = np.stack([a[0] for a in mem_out])\n",
    "np.shape(stack_sample)"
   ]
  },
  {
   "cell_type": "code",
   "execution_count": null,
   "metadata": {},
   "outputs": [],
   "source": []
  }
 ],
 "metadata": {
  "kernelspec": {
   "display_name": "Python 3",
   "language": "python",
   "name": "python3"
  },
  "language_info": {
   "codemirror_mode": {
    "name": "ipython",
    "version": 3
   },
   "file_extension": ".py",
   "mimetype": "text/x-python",
   "name": "python",
   "nbconvert_exporter": "python",
   "pygments_lexer": "ipython3",
   "version": "3.6.9"
  }
 },
 "nbformat": 4,
 "nbformat_minor": 4
}
