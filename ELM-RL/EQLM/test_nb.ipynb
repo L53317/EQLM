{
 "cells": [
  {
   "cell_type": "markdown",
   "metadata": {},
   "source": [
    "# Module Tests"
   ]
  },
  {
   "cell_type": "code",
   "execution_count": 1,
   "metadata": {},
   "outputs": [],
   "source": [
    "%load_ext autoreload\n",
    "%autoreload 2"
   ]
  },
  {
   "cell_type": "code",
   "execution_count": 8,
   "metadata": {},
   "outputs": [],
   "source": [
    "import numpy as np\n",
    "from q_agents import QAgent\n",
    "from networks import QNet, ELMNet\n",
    "from environment import Environment\n",
    "from tqdm.notebook import trange"
   ]
  },
  {
   "cell_type": "code",
   "execution_count": 5,
   "metadata": {},
   "outputs": [],
   "source": [
    "def do_run(agent, env, N_ep):\n",
    "    R_ep = []\n",
    "    t = trange(N_ep, desc='bar_desc', leave=True)\n",
    "    for ep_no in t:\n",
    "        s = env.reset()\n",
    "        done = False\n",
    "        Rt = 0\n",
    "        n_step = 0\n",
    "        while not done:\n",
    "            a = agent.action_select(s)\n",
    "            s, r, done, _ = env.step(a)\n",
    "            agent.update(s,r,done)\n",
    "            Rt += r\n",
    "            n_step +=1\n",
    "        R_ep.append(Rt)\n",
    "        t.set_description('Last reward: {}'.format(Rt))\n",
    "        t.refresh()\n",
    "    return R_ep, agent, env"
   ]
  },
  {
   "cell_type": "code",
   "execution_count": 45,
   "metadata": {},
   "outputs": [
    {
     "data": {
      "application/vnd.jupyter.widget-view+json": {
       "model_id": "3abc7ec48aeb4c3b8edea46f39a135ac",
       "version_major": 2,
       "version_minor": 0
      },
      "text/plain": [
       "HBox(children=(FloatProgress(value=0.0, description='bar_desc', max=800.0, style=ProgressStyle(description_wid…"
      ]
     },
     "metadata": {},
     "output_type": "display_data"
    },
    {
     "name": "stdout",
     "output_type": "stream",
     "text": [
      "\n"
     ]
    }
   ],
   "source": [
    "N_ep = 800\n",
    "env = Environment()\n",
    "agent0 = QAgent(env, net_type='ELMNet', memory_size=10000, N_hid=10)\n",
    "\n",
    "R_ep, agent0, env = do_run(agent0, env, N_ep)"
   ]
  },
  {
   "cell_type": "code",
   "execution_count": null,
   "metadata": {},
   "outputs": [],
   "source": []
  }
 ],
 "metadata": {
  "kernelspec": {
   "display_name": "Python 3",
   "language": "python",
   "name": "python3"
  },
  "language_info": {
   "codemirror_mode": {
    "name": "ipython",
    "version": 3
   },
   "file_extension": ".py",
   "mimetype": "text/x-python",
   "name": "python",
   "nbconvert_exporter": "python",
   "pygments_lexer": "ipython3",
   "version": "3.6.9"
  }
 },
 "nbformat": 4,
 "nbformat_minor": 4
}
