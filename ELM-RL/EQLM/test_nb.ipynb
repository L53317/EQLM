{
 "cells": [
  {
   "cell_type": "markdown",
   "metadata": {},
   "source": [
    "# Module Tests"
   ]
  },
  {
   "cell_type": "code",
   "execution_count": 1,
   "metadata": {},
   "outputs": [],
   "source": [
    "%load_ext autoreload\n",
    "%autoreload 2"
   ]
  },
  {
   "cell_type": "code",
   "execution_count": 3,
   "metadata": {},
   "outputs": [],
   "source": [
    "import numpy as np\n",
    "from tqdm.notebook import trange\n",
    "import matplotlib.pyplot as plt\n",
    "\n",
    "from q_agents import QAgent\n",
    "from networks import QNet, ELMNet\n",
    "from environment import Environment\n",
    "from run_agent import do_run"
   ]
  },
  {
   "cell_type": "code",
   "execution_count": 4,
   "metadata": {},
   "outputs": [],
   "source": [
    "def do_run(agent, env, N_ep):\n",
    "    R_ep = []\n",
    "    t = trange(N_ep, desc='bar_desc', leave=True)\n",
    "    for ep_no in t:\n",
    "        s = env.reset()\n",
    "        done = False\n",
    "        Rt = 0\n",
    "        n_step = 0\n",
    "        while not done:\n",
    "            a = agent.action_select(s)\n",
    "            s, r, done, _ = env.step(a)\n",
    "            agent.update(s,r,done)\n",
    "            Rt += r\n",
    "            n_step +=1\n",
    "        R_ep.append(Rt)\n",
    "        t.set_description('Last reward: {}'.format(Rt))\n",
    "        t.refresh()\n",
    "    return R_ep, agent, env"
   ]
  },
  {
   "cell_type": "code",
   "execution_count": 6,
   "metadata": {},
   "outputs": [
    {
     "data": {
      "application/vnd.jupyter.widget-view+json": {
       "model_id": "9547dcbc7706430782879985ff3de1eb",
       "version_major": 2,
       "version_minor": 0
      },
      "text/plain": [
       "HBox(children=(FloatProgress(value=0.0, description='bar_desc', max=800.0, style=ProgressStyle(description_wid…"
      ]
     },
     "metadata": {},
     "output_type": "display_data"
    },
    {
     "name": "stdout",
     "output_type": "stream",
     "text": [
      "\n"
     ]
    }
   ],
   "source": [
    "N_ep = 800\n",
    "env = Environment()\n",
    "# agent = QAgent(env, net_type='QNet', alpha = 0.0065, update_steps=70, N_hid=29, eps0=0.67, gamma=0.99, clip_norm=1.0, memory_size=10000, minibatch_size=26)\n",
    "agent = QAgent(env, net_type='ELMNet', update_steps=50, N_hid=28, eps0=0.66, gamma=0.66, memory_size=10000, minibatch_size=4)\n",
    "\n",
    "R_ep, agent, env = do_run(agent, env, N_ep)"
   ]
  },
  {
   "cell_type": "code",
   "execution_count": 5,
   "metadata": {},
   "outputs": [],
   "source": [
    "agent.nn.sess.close()"
   ]
  },
  {
   "cell_type": "code",
   "execution_count": null,
   "metadata": {},
   "outputs": [],
   "source": []
  }
 ],
 "metadata": {
  "kernelspec": {
   "display_name": "Python 3",
   "language": "python",
   "name": "python3"
  },
  "language_info": {
   "codemirror_mode": {
    "name": "ipython",
    "version": 3
   },
   "file_extension": ".py",
   "mimetype": "text/x-python",
   "name": "python",
   "nbconvert_exporter": "python",
   "pygments_lexer": "ipython3",
   "version": "3.6.9"
  }
 },
 "nbformat": 4,
 "nbformat_minor": 4
}
