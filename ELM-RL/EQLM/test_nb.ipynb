{
 "cells": [
  {
   "cell_type": "markdown",
   "metadata": {},
   "source": [
    "# Module Tests"
   ]
  },
  {
   "cell_type": "code",
   "execution_count": 1,
   "metadata": {},
   "outputs": [],
   "source": [
    "%load_ext autoreload\n",
    "%autoreload 2"
   ]
  },
  {
   "cell_type": "code",
   "execution_count": 3,
   "metadata": {},
   "outputs": [],
   "source": [
    "import numpy as np\n",
    "from agent import EQLMAgent\n",
    "from environment import Environment\n",
    "from networks import ELMNet\n",
    "from tqdm import trange, tnrange"
   ]
  },
  {
   "cell_type": "code",
   "execution_count": 14,
   "metadata": {},
   "outputs": [],
   "source": [
    "def do_run(agent, env, N_ep):\n",
    "    R_ep = []\n",
    "    t = tnrange(N_ep, desc='bar_desc', leave=True)\n",
    "    for ep_no in t:\n",
    "        s = env.reset()\n",
    "        done = False\n",
    "        Rt = 0\n",
    "        n_step = 0\n",
    "        while not done:\n",
    "            a = agent.action_select(s)\n",
    "            s, r, done, _ = env.step(a)\n",
    "            agent.update(s,r,done)\n",
    "            Rt += r\n",
    "            n_step +=1\n",
    "        R_ep.append(Rt)\n",
    "        t.set_description('Last reward: {}'.format(Rt))\n",
    "        t.refresh()\n",
    "    return R_ep, agent, env"
   ]
  },
  {
   "cell_type": "code",
   "execution_count": 15,
   "metadata": {},
   "outputs": [
    {
     "name": "stderr",
     "output_type": "stream",
     "text": [
      "/home/callum/.local/lib/python3.6/site-packages/ipykernel_launcher.py:3: TqdmDeprecationWarning: Please use `tqdm.notebook.trange` instead of `tqdm.tnrange`\n",
      "  This is separate from the ipykernel package so we can avoid doing imports until\n"
     ]
    },
    {
     "data": {
      "application/vnd.jupyter.widget-view+json": {
       "model_id": "7776191ca47146b59372dc8bd949b405",
       "version_major": 2,
       "version_minor": 0
      },
      "text/plain": [
       "HBox(children=(FloatProgress(value=0.0, description='bar_desc', max=800.0, style=ProgressStyle(description_wid…"
      ]
     },
     "metadata": {},
     "output_type": "display_data"
    },
    {
     "name": "stdout",
     "output_type": "stream",
     "text": [
      "\n"
     ]
    }
   ],
   "source": [
    "N_ep = 800\n",
    "env = Environment()\n",
    "agent0 = EQLMAgent(env, memory_size=5, N_hid=10)\n",
    "\n",
    "R_ep, agent0, env = do_run(agent0, env, N_ep)\n",
    "# s = env.reset()\n",
    "# for _ in range(20):\n",
    "#     a = agent0.action_select(s)\n",
    "#     s,r,d,_ = env.step(a)\n",
    "#     agent0.update(s,r,d)\n",
    "#     if d:\n",
    "#         s = env.reset()"
   ]
  },
  {
   "cell_type": "code",
   "execution_count": null,
   "metadata": {},
   "outputs": [],
   "source": []
  }
 ],
 "metadata": {
  "kernelspec": {
   "display_name": "Python 3",
   "language": "python",
   "name": "python3"
  },
  "language_info": {
   "codemirror_mode": {
    "name": "ipython",
    "version": 3
   },
   "file_extension": ".py",
   "mimetype": "text/x-python",
   "name": "python",
   "nbconvert_exporter": "python",
   "pygments_lexer": "ipython3",
   "version": "3.6.9"
  }
 },
 "nbformat": 4,
 "nbformat_minor": 4
}
