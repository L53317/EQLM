{
 "cells": [
  {
   "cell_type": "markdown",
   "metadata": {},
   "source": [
    "# Testing Module"
   ]
  },
  {
   "cell_type": "code",
   "execution_count": 1,
   "metadata": {},
   "outputs": [],
   "source": [
    "%load_ext autoreload\n",
    "%autoreload 2"
   ]
  },
  {
   "cell_type": "code",
   "execution_count": 2,
   "metadata": {},
   "outputs": [],
   "source": [
    "import numpy as np\n",
    "import gym\n",
    "import matplotlib.pyplot as plt\n",
    "import cProfile, pstats\n",
    "import gc\n",
    "import pickle"
   ]
  },
  {
   "cell_type": "code",
   "execution_count": 4,
   "metadata": {},
   "outputs": [],
   "source": [
    "# import QLearn\n",
    "from QLearn.q_agents import HeuristicAgent, QAgent, ReplayMemory\n",
    "from QLearn.environment import Environment\n",
    "from QLearn.run_agent import do_run, heuristic_demo, agent_demo, Reward"
   ]
  },
  {
   "cell_type": "code",
   "execution_count": 5,
   "metadata": {},
   "outputs": [],
   "source": [
    "def t_qnet(agent,env,n_step):\n",
    "    pr = cProfile.Profile()\n",
    "    s = env.reset()\n",
    "    pr.enable()\n",
    "    for _ in range(n_step):\n",
    "        a = agent.action_select(s)\n",
    "        s, r, done, _ = env.step(a)\n",
    "        agent.update(s,r,done)\n",
    "    pr.disable()\n",
    "    sortby = 'cumulative'\n",
    "    ps = pstats.Stats(pr).sort_stats(sortby)\n",
    "    return ps"
   ]
  },
  {
   "cell_type": "code",
   "execution_count": 6,
   "metadata": {},
   "outputs": [],
   "source": [
    "def heuristic(s):\n",
    "    # Heuristic for:\n",
    "    # 1. Testing. \n",
    "    # 2. Demonstration rollout.\n",
    "    angle_targ = s[0]*0.5 + s[2]*1.0         # angle should point towards center (s[0] is horizontal coordinate, s[2] hor speed)\n",
    "    if angle_targ >  0.4: angle_targ =  0.4  # more than 0.4 radians (22 degrees) is bad\n",
    "    if angle_targ < -0.4: angle_targ = -0.4\n",
    "    hover_targ = 0.55*np.abs(s[0])           # target y should be proporional to horizontal offset\n",
    "\n",
    "    # PID controller: s[4] angle, s[5] angularSpeed\n",
    "    angle_todo = (angle_targ - s[4])*0.5 - (s[5])*1.0\n",
    "    #print(\"angle_targ=%0.2f, angle_todo=%0.2f\" % (angle_targ, angle_todo))\n",
    "\n",
    "    # PID controller: s[1] vertical coordinate s[3] vertical speed\n",
    "    hover_todo = (hover_targ - s[1])*0.5 - (s[3])*0.5\n",
    "    #print(\"hover_targ=%0.2f, hover_todo=%0.2f\" % (hover_targ, hover_todo))\n",
    "\n",
    "    if s[6] or s[7]: # legs have contact\n",
    "        angle_todo = 0\n",
    "        hover_todo = -(s[3])*0.5  # override to reduce fall speed, that's all we need after contact\n",
    "\n",
    "    a = 0\n",
    "    if hover_todo > np.abs(angle_todo) and hover_todo > 0.05: a = 2\n",
    "    elif angle_todo < -0.05: a = 3\n",
    "    elif angle_todo > +0.05: a = 1\n",
    "    return a\n",
    "\n",
    "def random_agent(s):\n",
    "    return np.random.randint(4)"
   ]
  },
  {
   "cell_type": "markdown",
   "metadata": {},
   "source": [
    "## Run"
   ]
  },
  {
   "cell_type": "code",
   "execution_count": 11,
   "metadata": {},
   "outputs": [],
   "source": [
    "del agent"
   ]
  },
  {
   "cell_type": "code",
   "execution_count": 10,
   "metadata": {},
   "outputs": [],
   "source": [
    "import pickle\n",
    "dat = pickle.load(open('data_test','rb'))"
   ]
  },
  {
   "cell_type": "code",
   "execution_count": null,
   "metadata": {},
   "outputs": [],
   "source": [
    "env = Environment(\"gym_MarsLander:MarsLander-v0\")\n",
    "gc.enable()\n",
    "agent = QAgent(env,net_type='MLPQNet',hidden_layers=[80, 40],memory_size=50000,minibatch_size=20,alpha=0.005,clip_norm=1.0,eps0=0.7, n_eps=1500)\n",
    "R, _, _ = do_run(agent, env, 2000, save_name = 'data_test')\n",
    "gc.disable()"
   ]
  },
  {
   "cell_type": "code",
   "execution_count": 35,
   "metadata": {},
   "outputs": [],
   "source": [
    "R_dem = agent_demo(agent,env,5)"
   ]
  },
  {
   "cell_type": "code",
   "execution_count": 34,
   "metadata": {},
   "outputs": [
    {
     "data": {
      "image/png": "[encoded data removed]",
      "text/plain": [
       "<Figure size 432x288 with 1 Axes>"
      ]
     },
     "metadata": {
      "needs_background": "light"
     },
     "output_type": "display_data"
    }
   ],
   "source": [
    "x,R = R.smooth(n_avg=50)\n",
    "plt.plot(x,R)\n",
    "plt.show()"
   ]
  },
  {
   "cell_type": "code",
   "execution_count": 25,
   "metadata": {},
   "outputs": [],
   "source": [
    "env.gym_env.close()"
   ]
  },
  {
   "cell_type": "markdown",
   "metadata": {},
   "source": [
    "## Compare"
   ]
  },
  {
   "cell_type": "code",
   "execution_count": 22,
   "metadata": {},
   "outputs": [],
   "source": [
    "env = Environment(\"gym_MarsLander:MarsLander-v0\")\n",
    "R_heur = heuristic_demo(heuristic, env, 10)"
   ]
  },
  {
   "cell_type": "code",
   "execution_count": 23,
   "metadata": {},
   "outputs": [
    {
     "name": "stdout",
     "output_type": "stream",
     "text": [
      "[139.91286600739335, 138.4386160788039, 142.84107405675084, 138.82319303007597, 138.50278230497332, 138.1785719777867, 137.18802995522756, 138.58225124555827, 138.05863669572517, 136.44876044597066]\n"
     ]
    }
   ],
   "source": [
    "print(R_heur)"
   ]
  },
  {
   "cell_type": "code",
   "execution_count": 32,
   "metadata": {},
   "outputs": [
    {
     "name": "stdout",
     "output_type": "stream",
     "text": [
      "[-671.2615747059227, -483.13267141688306, -410.15969348230306, -758.4042670664466, -658.8087888707811, -403.37436841514113, -341.2985710054054, -366.55626634328405, -593.5485036150751, -146.11234326611782, -436.81803532045996, -811.5001734807927, -464.5108013046073, -595.2709504567551, -615.6369629466606, -448.31654610810534, -305.42638408137196, -364.96739819484674, -551.4165717205102, -405.6481025490778, -362.6311661207049, -369.737245769936, -335.63678409203334, -528.2138322865976, -443.7885554259294, -382.7384743910433, -512.5288582688576, -362.6175173461205, -352.5471742907337, -384.020367744583, -761.7940999195399, -354.48188772261955, -630.3078624902961, -283.511150870729, -350.036892262617, -377.9574204021787, -411.93830820527313, -528.695833745625, -325.45863681823346, -516.7807322957468, -377.85633704616424, -342.88440713120974, -373.8884150352467, -474.3040456627326, -814.6118771674502, -653.0808471737774, -343.09254277321037, -455.34291015687984, -382.4231527482067, -334.370468254015, -86.19602568237133, -531.2902373659686, -328.97886213523776, -794.6327229265379, -405.557315422007, -344.28334964210546, -363.1608280913082, -465.66544007490563, -519.7093578807776, -362.0935341495351, -396.924565146835, -321.1811043342954, -308.35710216710015, -427.0823127277758, -399.755767541074, -378.6545694880873, -518.4801542044204, -348.75264415281356, -737.8544831316482, -770.1997013591965, -367.9616631782304, -265.9683978069287, -395.2850042376535, -692.3978792482893, -332.75015602127417, -482.70040208135447, -420.13118753020734, -383.4526989568837, -215.50280093956792, -337.03894153520014, -374.2742882334171, -342.3939443597021, -504.1026075273176, -433.66639961533065, -556.7995388918126, -611.4919426600351, -383.3866255832036, -508.6772516637232, -394.3764713657413, -382.91298419157147, -467.01079969479, -572.8149629643563, -393.94870690495884, -346.55346625568626, -549.9273049033799, -134.42174236052836, -455.36197562963395, -481.1007981006944, -571.4957729145456, -613.1611961939971]\n",
      "-447.3932476714285\n"
     ]
    }
   ],
   "source": [
    "env = Environment(\"gym_MarsLander:MarsLander-v0\")\n",
    "R_rand = heuristic_demo(random_agent, env, 100)\n",
    "print(R_rand)\n",
    "print(np.mean(R_rand))"
   ]
  },
  {
   "cell_type": "markdown",
   "metadata": {},
   "source": [
    "## Misc Testing"
   ]
  },
  {
   "cell_type": "code",
   "execution_count": 64,
   "metadata": {},
   "outputs": [
    {
     "name": "stderr",
     "output_type": "stream",
     "text": [
      "R: -256.7 Step: 353: 100%|██████████| 1/1 [00:02<00:00,  2.66s/it]\n"
     ]
    },
    {
     "name": "stdout",
     "output_type": "stream",
     "text": [
      "         131235 function calls (128355 primitive calls) in 0.373 seconds\n",
      "\n",
      "   Ordered by: cumulative time\n",
      "   List reduced from 245 to 20 due to restriction <20>\n",
      "\n",
      "   ncalls  tottime  percall  cumtime  percall filename:lineno(function)\n",
      "      100    0.009    0.000    0.298    0.003 /home/callum/smart-ml/lander-RL/QLearn/q_agents.py:64(update)\n",
      "      332    0.001    0.000    0.264    0.001 /home/callum/.local/lib/python3.6/site-packages/tensorflow/python/client/session.py:840(run)\n",
      "      332    0.010    0.000    0.263    0.001 /home/callum/.local/lib/python3.6/site-packages/tensorflow/python/client/session.py:1084(_run)\n",
      "      332    0.002    0.000    0.157    0.000 /home/callum/.local/lib/python3.6/site-packages/tensorflow/python/client/session.py:1310(_do_run)\n",
      "      332    0.000    0.000    0.154    0.000 /home/callum/.local/lib/python3.6/site-packages/tensorflow/python/client/session.py:1354(_do_call)\n",
      "      332    0.001    0.000    0.153    0.000 /home/callum/.local/lib/python3.6/site-packages/tensorflow/python/client/session.py:1337(_run_fn)\n",
      "      332    0.000    0.000    0.142    0.000 /home/callum/.local/lib/python3.6/site-packages/tensorflow/python/client/session.py:1425(_call_tf_sessionrun)\n",
      "      332    0.142    0.000    0.142    0.000 {built-in method _pywrap_tensorflow_internal.TF_SessionRun_wrapper}\n",
      "      228    0.001    0.000    0.140    0.001 /home/callum/smart-ml/lander-RL/QLearn/networks.py:159(Q_predict)\n",
      "      100    0.000    0.000    0.123    0.001 /home/callum/smart-ml/lander-RL/QLearn/networks.py:167(update)\n",
      "      100    0.001    0.000    0.050    0.001 /home/callum/smart-ml/lander-RL/QLearn/environment.py:40(step)\n",
      "      100    0.032    0.000    0.049    0.000 /home/callum/smart-ml/lander-RL/gym-MarsLander/gym_MarsLander/envs/MarsLander_env.py:247(step)\n",
      "      332    0.004    0.000    0.047    0.000 /home/callum/.local/lib/python3.6/site-packages/tensorflow/python/client/session.py:461(__init__)\n",
      "  628/428    0.013    0.000    0.026    0.000 {built-in method numpy.core._multiarray_umath.implement_array_function}\n",
      "      100    0.002    0.000    0.025    0.000 /home/callum/smart-ml/lander-RL/QLearn/q_agents.py:54(action_select)\n",
      "      200    0.000    0.000    0.024    0.000 <__array_function__ internals>:2(stack)\n",
      "    16447    0.012    0.000    0.023    0.000 {built-in method builtins.isinstance}\n",
      "      200    0.001    0.000    0.022    0.000 /home/callum/.local/lib/python3.6/site-packages/numpy/core/shape_base.py:357(stack)\n",
      " 1992/664    0.001    0.000    0.020    0.000 {built-in method builtins.next}\n",
      "      664    0.010    0.000    0.019    0.000 /home/callum/.local/lib/python3.6/site-packages/tensorflow/python/framework/ops.py:5644(get_controller)\n",
      "\n",
      "\n"
     ]
    },
    {
     "data": {
      "text/plain": [
       "<pstats.Stats at 0x7f1bf6a9cf98>"
      ]
     },
     "execution_count": 64,
     "metadata": {},
     "output_type": "execute_result"
    }
   ],
   "source": [
    "env = Environment(\"gym_MarsLander:MarsLander-v0\")\n",
    "agent = QAgent(env,net_type='MLPQNet',hidden_layers=[120, 60],memory_size=100000,minibatch_size=20,alpha=0.005,clip_norm=1.0,eps0=0.7, n_eps=1500)\n",
    "_, agent, env = do_run(agent,env,1)\n",
    "ps_ep1 = t_qnet(agent,env,100)\n",
    "ps_ep1.print_stats(20)"
   ]
  },
  {
   "cell_type": "code",
   "execution_count": 65,
   "metadata": {},
   "outputs": [
    {
     "name": "stderr",
     "output_type": "stream",
     "text": [
      "R: -344.6 Step: 501: 100%|██████████| 100/100 [01:39<00:00,  1.01it/s]\n"
     ]
    },
    {
     "name": "stdout",
     "output_type": "stream",
     "text": [
      "         134240 function calls (131296 primitive calls) in 0.349 seconds\n",
      "\n",
      "   Ordered by: cumulative time\n",
      "   List reduced from 245 to 20 due to restriction <20>\n",
      "\n",
      "   ncalls  tottime  percall  cumtime  percall filename:lineno(function)\n",
      "      100    0.015    0.000    0.292    0.003 /home/callum/smart-ml/lander-RL/QLearn/q_agents.py:64(update)\n",
      "      340    0.001    0.000    0.243    0.001 /home/callum/.local/lib/python3.6/site-packages/tensorflow/python/client/session.py:840(run)\n",
      "      340    0.015    0.000    0.242    0.001 /home/callum/.local/lib/python3.6/site-packages/tensorflow/python/client/session.py:1084(_run)\n",
      "      340    0.002    0.000    0.144    0.000 /home/callum/.local/lib/python3.6/site-packages/tensorflow/python/client/session.py:1310(_do_run)\n",
      "      340    0.000    0.000    0.141    0.000 /home/callum/.local/lib/python3.6/site-packages/tensorflow/python/client/session.py:1354(_do_call)\n",
      "      340    0.000    0.000    0.140    0.000 /home/callum/.local/lib/python3.6/site-packages/tensorflow/python/client/session.py:1337(_run_fn)\n",
      "      340    0.000    0.000    0.131    0.000 /home/callum/.local/lib/python3.6/site-packages/tensorflow/python/client/session.py:1425(_call_tf_sessionrun)\n",
      "      340    0.131    0.000    0.131    0.000 {built-in method _pywrap_tensorflow_internal.TF_SessionRun_wrapper}\n",
      "      236    0.001    0.000    0.129    0.001 /home/callum/smart-ml/lander-RL/QLearn/networks.py:159(Q_predict)\n",
      "      100    0.000    0.000    0.113    0.001 /home/callum/smart-ml/lander-RL/QLearn/networks.py:167(update)\n",
      "      340    0.004    0.000    0.045    0.000 /home/callum/.local/lib/python3.6/site-packages/tensorflow/python/client/session.py:461(__init__)\n",
      "      100    0.000    0.000    0.038    0.000 /home/callum/smart-ml/lander-RL/QLearn/environment.py:40(step)\n",
      "      100    0.024    0.000    0.037    0.000 /home/callum/smart-ml/lander-RL/gym-MarsLander/gym_MarsLander/envs/MarsLander_env.py:247(step)\n",
      " 2040/680    0.001    0.000    0.023    0.000 {built-in method builtins.next}\n",
      "      680    0.013    0.000    0.023    0.000 /home/callum/.local/lib/python3.6/site-packages/tensorflow/python/framework/ops.py:5644(get_controller)\n",
      "  636/436    0.006    0.000    0.021    0.000 {built-in method numpy.core._multiarray_umath.implement_array_function}\n",
      "      200    0.000    0.000    0.019    0.000 <__array_function__ internals>:2(stack)\n",
      "      100    0.001    0.000    0.019    0.000 /home/callum/smart-ml/lander-RL/QLearn/q_agents.py:54(action_select)\n",
      "      200    0.002    0.000    0.017    0.000 /home/callum/.local/lib/python3.6/site-packages/numpy/core/shape_base.py:357(stack)\n",
      " 1020/340    0.000    0.000    0.017    0.000 /usr/lib/python3.6/contextlib.py:79(__enter__)\n",
      "\n",
      "\n"
     ]
    },
    {
     "data": {
      "text/plain": [
       "<pstats.Stats at 0x7f1bf5cf1e10>"
      ]
     },
     "execution_count": 65,
     "metadata": {},
     "output_type": "execute_result"
    }
   ],
   "source": [
    "env = Environment(\"gym_MarsLander:MarsLander-v0\")\n",
    "agent = QAgent(env,net_type='MLPQNet',hidden_layers=[120, 60],memory_size=100000,minibatch_size=20,alpha=0.005,clip_norm=1.0,eps0=0.7, n_eps=1500)\n",
    "_, agent, env = do_run(agent,env,100)\n",
    "ps_ep100 = t_qnet(agent,env,100)\n",
    "ps_ep100.print_stats(20)"
   ]
  },
  {
   "cell_type": "markdown",
   "metadata": {},
   "source": [
    "## Loading Data"
   ]
  },
  {
   "cell_type": "code",
   "execution_count": 7,
   "metadata": {},
   "outputs": [],
   "source": [
    "fname = 'data0_14_2.pkl'\n",
    "data = pickle.load(open(fname,'rb'))"
   ]
  },
  {
   "cell_type": "code",
   "execution_count": 8,
   "metadata": {},
   "outputs": [
    {
     "name": "stdout",
     "output_type": "stream",
     "text": [
      "-344.6026565547316\n"
     ]
    },
    {
     "data": {
      "image/png": "[encoded data removed]",
      "text/plain": [
       "<Figure size 432x288 with 1 Axes>"
      ]
     },
     "metadata": {
      "needs_background": "light"
     },
     "output_type": "display_data"
    }
   ],
   "source": [
    "print(np.mean(data['R']))\n",
    "plt.plot(data['R'])\n",
    "plt.show()"
   ]
  },
  {
   "cell_type": "code",
   "execution_count": 9,
   "metadata": {},
   "outputs": [
    {
     "data": {
      "image/png": "[encoded data removed]",
      "text/plain": [
       "<Figure size 432x288 with 1 Axes>"
      ]
     },
     "metadata": {
      "needs_background": "light"
     },
     "output_type": "display_data"
    }
   ],
   "source": [
    "x,R_ep = data['R'].smooth()\n",
    "plt.plot(x,R_ep,'r')\n",
    "plt.ylim([-500, 100])\n",
    "plt.show()"
   ]
  },
  {
   "cell_type": "code",
   "execution_count": null,
   "metadata": {},
   "outputs": [],
   "source": [
    "env = Environment(\"gym_MarsLander:MarsLander-v0\")\n",
    "agent = QAgent(env,net_type='MLPQNet',hidden_layers=[80, 40],memory_size=50000,minibatch_size=20,alpha=0.005,clip_norm=1.0,eps0=0.0, n_eps=1000)\n",
    "agent.nn.assign_params(data['params'])\n",
    "R_rand = agent_demo(agent, env, 10)"
   ]
  },
  {
   "cell_type": "code",
   "execution_count": 11,
   "metadata": {},
   "outputs": [],
   "source": [
    "env.gym_env.close()"
   ]
  },
  {
   "cell_type": "code",
   "execution_count": 17,
   "metadata": {},
   "outputs": [
    {
     "data": {
      "text/plain": [
       "-376.67001424365617"
      ]
     },
     "execution_count": 17,
     "metadata": {},
     "output_type": "execute_result"
    }
   ],
   "source": [
    "np.mean(data['R'][:20])"
   ]
  },
  {
   "cell_type": "code",
   "execution_count": null,
   "metadata": {},
   "outputs": [],
   "source": []
  }
 ],
 "metadata": {
  "kernelspec": {
   "display_name": "Python 3",
   "language": "python",
   "name": "python3"
  },
  "language_info": {
   "codemirror_mode": {
    "name": "ipython",
    "version": 3
   },
   "file_extension": ".py",
   "mimetype": "text/x-python",
   "name": "python",
   "nbconvert_exporter": "python",
   "pygments_lexer": "ipython3",
   "version": "3.6.9"
  }
 },
 "nbformat": 4,
 "nbformat_minor": 4
}
