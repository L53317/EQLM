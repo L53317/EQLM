{
 "cells": [
  {
   "cell_type": "markdown",
   "metadata": {},
   "source": [
    "# Testing Module"
   ]
  },
  {
   "cell_type": "code",
   "execution_count": 1,
   "metadata": {},
   "outputs": [],
   "source": [
    "%load_ext autoreload\n",
    "%autoreload 2"
   ]
  },
  {
   "cell_type": "code",
   "execution_count": 2,
   "metadata": {},
   "outputs": [],
   "source": [
    "import numpy as np\n",
    "import gym\n",
    "import matplotlib.pyplot as plt\n",
    "import cProfile, pstats\n",
    "import gc\n",
    "import pickle"
   ]
  },
  {
   "cell_type": "code",
   "execution_count": 4,
   "metadata": {},
   "outputs": [],
   "source": [
    "# import QLearn\n",
    "from QLearn.q_agents import HeuristicAgent, QAgent, ReplayMemory\n",
    "from QLearn.environment import Environment\n",
    "from QLearn.run_agent import do_run, heuristic_demo, agent_demo, Reward"
   ]
  },
  {
   "cell_type": "code",
   "execution_count": 5,
   "metadata": {},
   "outputs": [],
   "source": [
    "def t_qnet(agent,env,n_step):\n",
    "    pr = cProfile.Profile()\n",
    "    s = env.reset()\n",
    "    pr.enable()\n",
    "    for _ in range(n_step):\n",
    "        a = agent.action_select(s)\n",
    "        s, r, done, _ = env.step(a)\n",
    "        agent.update(s,r,done)\n",
    "    pr.disable()\n",
    "    sortby = 'cumulative'\n",
    "    ps = pstats.Stats(pr).sort_stats(sortby)\n",
    "    return ps"
   ]
  },
  {
   "cell_type": "code",
   "execution_count": 6,
   "metadata": {},
   "outputs": [],
   "source": [
    "def heuristic(s):\n",
    "    # Heuristic for:\n",
    "    # 1. Testing. \n",
    "    # 2. Demonstration rollout.\n",
    "    angle_targ = s[0]*0.5 + s[2]*1.0         # angle should point towards center (s[0] is horizontal coordinate, s[2] hor speed)\n",
    "    if angle_targ >  0.4: angle_targ =  0.4  # more than 0.4 radians (22 degrees) is bad\n",
    "    if angle_targ < -0.4: angle_targ = -0.4\n",
    "    hover_targ = 0.55*np.abs(s[0])           # target y should be proporional to horizontal offset\n",
    "\n",
    "    # PID controller: s[4] angle, s[5] angularSpeed\n",
    "    angle_todo = (angle_targ - s[4])*0.5 - (s[5])*1.0\n",
    "    #print(\"angle_targ=%0.2f, angle_todo=%0.2f\" % (angle_targ, angle_todo))\n",
    "\n",
    "    # PID controller: s[1] vertical coordinate s[3] vertical speed\n",
    "    hover_todo = (hover_targ - s[1])*0.5 - (s[3])*0.5\n",
    "    #print(\"hover_targ=%0.2f, hover_todo=%0.2f\" % (hover_targ, hover_todo))\n",
    "\n",
    "    if s[6] or s[7]: # legs have contact\n",
    "        angle_todo = 0\n",
    "        hover_todo = -(s[3])*0.5  # override to reduce fall speed, that's all we need after contact\n",
    "\n",
    "    a = 0\n",
    "    if hover_todo > np.abs(angle_todo) and hover_todo > 0.05: a = 2\n",
    "    elif angle_todo < -0.05: a = 3\n",
    "    elif angle_todo > +0.05: a = 1\n",
    "    return a\n",
    "\n",
    "def random_agent(s):\n",
    "    return np.random.randint(4)"
   ]
  },
  {
   "cell_type": "markdown",
   "metadata": {},
   "source": [
    "## Run"
   ]
  },
  {
   "cell_type": "code",
   "execution_count": 13,
   "metadata": {},
   "outputs": [],
   "source": [
    "del agent"
   ]
  },
  {
   "cell_type": "code",
   "execution_count": null,
   "metadata": {},
   "outputs": [],
   "source": [
    "env = Environment(\"gym_MarsLander:MarsLander-v0\")\n",
    "gc.enable()\n",
    "agent = HeuristicAgent(env,heuristic,net_type='MLPQNet',hidden_layers=[80, 40],memory_size=50000,minibatch_size=20,alpha=0.005,clip_norm=1.0,eps0=0.7, n_eps=1500, n_xi=100)\n",
    "R, agent, _ = do_run(agent, env, 2000, save_name = 'data_test_19_2.pkl')\n",
    "gc.disable()"
   ]
  },
  {
   "cell_type": "code",
   "execution_count": null,
   "metadata": {},
   "outputs": [],
   "source": [
    "R_dem = agent_demo(show_agent,env,5)"
   ]
  },
  {
   "cell_type": "code",
   "execution_count": 9,
   "metadata": {},
   "outputs": [
    {
     "data": {
      "image/png": "[encoded data removed]",
      "text/plain": [
       "<Figure size 432x288 with 1 Axes>"
      ]
     },
     "metadata": {
      "needs_background": "light"
     },
     "output_type": "display_data"
    }
   ],
   "source": [
    "x,R = R.smooth(n_avg=50)\n",
    "plt.plot(x,R)\n",
    "plt.show()"
   ]
  },
  {
   "cell_type": "code",
   "execution_count": 11,
   "metadata": {},
   "outputs": [],
   "source": [
    "env.gym_env.close()"
   ]
  },
  {
   "cell_type": "markdown",
   "metadata": {},
   "source": [
    "## Compare"
   ]
  },
  {
   "cell_type": "code",
   "execution_count": null,
   "metadata": {},
   "outputs": [],
   "source": [
    "env = Environment(\"gym_MarsLander:MarsLander-v0\")\n",
    "R_heur = heuristic_demo(heuristic, env, 10)"
   ]
  },
  {
   "cell_type": "code",
   "execution_count": null,
   "metadata": {},
   "outputs": [],
   "source": [
    "print(R_heur)"
   ]
  },
  {
   "cell_type": "code",
   "execution_count": null,
   "metadata": {},
   "outputs": [],
   "source": [
    "env = Environment(\"gym_MarsLander:MarsLander-v0\")\n",
    "R_rand = heuristic_demo(random_agent, env, 100)\n",
    "print(R_rand)\n",
    "print(np.mean(R_rand))"
   ]
  },
  {
   "cell_type": "markdown",
   "metadata": {},
   "source": [
    "## Misc Testing"
   ]
  },
  {
   "cell_type": "code",
   "execution_count": null,
   "metadata": {},
   "outputs": [],
   "source": [
    "env = Environment(\"gym_MarsLander:MarsLander-v0\")\n",
    "agent = QAgent(env,net_type='MLPQNet',hidden_layers=[120, 60],memory_size=100000,minibatch_size=20,alpha=0.005,clip_norm=1.0,eps0=0.7, n_eps=1500)\n",
    "_, agent, env = do_run(agent,env,1)\n",
    "ps_ep1 = t_qnet(agent,env,100)\n",
    "ps_ep1.print_stats(20)"
   ]
  },
  {
   "cell_type": "code",
   "execution_count": null,
   "metadata": {},
   "outputs": [],
   "source": [
    "env = Environment(\"gym_MarsLander:MarsLander-v0\")\n",
    "agent = QAgent(env,net_type='MLPQNet',hidden_layers=[120, 60],memory_size=100000,minibatch_size=20,alpha=0.005,clip_norm=1.0,eps0=0.7, n_eps=1500)\n",
    "_, agent, env = do_run(agent,env,100)\n",
    "ps_ep100 = t_qnet(agent,env,100)\n",
    "ps_ep100.print_stats(20)"
   ]
  },
  {
   "cell_type": "markdown",
   "metadata": {},
   "source": [
    "## Loading Data"
   ]
  },
  {
   "cell_type": "code",
   "execution_count": 12,
   "metadata": {},
   "outputs": [],
   "source": [
    "fname = 'data_heur_19_2.pkl'\n",
    "data = pickle.load(open(fname,'rb'))"
   ]
  },
  {
   "cell_type": "code",
   "execution_count": null,
   "metadata": {},
   "outputs": [],
   "source": [
    "print(np.mean(data['R']))\n",
    "plt.plot(data['R'])\n",
    "plt.show()"
   ]
  },
  {
   "cell_type": "code",
   "execution_count": null,
   "metadata": {},
   "outputs": [],
   "source": [
    "x,R_ep = data['R'].smooth()\n",
    "plt.plot(x,R_ep,'r')\n",
    "plt.ylim([-500, 100])\n",
    "plt.show()"
   ]
  },
  {
   "cell_type": "code",
   "execution_count": null,
   "metadata": {},
   "outputs": [],
   "source": [
    "env = Environment(\"gym_MarsLander:MarsLander-v0\")\n",
    "agent = QAgent(env,net_type='MLPQNet',hidden_layers=[80, 40],memory_size=50000,minibatch_size=20,alpha=0.005,clip_norm=1.0,eps0=0.0, n_eps=1000)\n",
    "agent.nn.assign_params(data['params'])\n",
    "R_rand = agent_demo(agent, env, 10)"
   ]
  },
  {
   "cell_type": "code",
   "execution_count": null,
   "metadata": {},
   "outputs": [],
   "source": [
    "env.gym_env.close()"
   ]
  },
  {
   "cell_type": "code",
   "execution_count": null,
   "metadata": {},
   "outputs": [],
   "source": [
    "np.mean(data['R'][:20])"
   ]
  },
  {
   "cell_type": "code",
   "execution_count": null,
   "metadata": {},
   "outputs": [],
   "source": [
    "for run_no in range(10):\n",
    "    fname = 'data{}_18_2.pkl'.format(run_no)\n",
    "    data = pickle.load(open(fname,'rb'))\n",
    "    x,R_ep = data['R'].smooth(100)\n",
    "    plt.plot(x,R_ep)\n",
    "plt.ylim([-500, 100])\n",
    "plt.show()"
   ]
  },
  {
   "cell_type": "code",
   "execution_count": null,
   "metadata": {},
   "outputs": [],
   "source": []
  }
 ],
 "metadata": {
  "kernelspec": {
   "display_name": "Python 3",
   "language": "python",
   "name": "python3"
  },
  "language_info": {
   "codemirror_mode": {
    "name": "ipython",
    "version": 3
   },
   "file_extension": ".py",
   "mimetype": "text/x-python",
   "name": "python",
   "nbconvert_exporter": "python",
   "pygments_lexer": "ipython3",
   "version": "3.6.9"
  }
 },
 "nbformat": 4,
 "nbformat_minor": 4
}
